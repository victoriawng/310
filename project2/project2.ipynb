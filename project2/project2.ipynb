{
 "cells": [
  {
   "cell_type": "markdown",
   "metadata": {},
   "source": [
    "# Project 2: Web Scraping and API access"
   ]
  },
  {
   "cell_type": "code",
   "execution_count": 2,
   "metadata": {},
   "outputs": [
    {
     "name": "stdout",
     "output_type": "stream",
     "text": [
      "Requirement already satisfied: beautifulsoup4 in c:\\users\\victo\\anaconda3\\envs\\is310\\lib\\site-packages (4.12.3)\n",
      "Requirement already satisfied: soupsieve>1.2 in c:\\users\\victo\\anaconda3\\envs\\is310\\lib\\site-packages (from beautifulsoup4) (2.5)\n"
     ]
    }
   ],
   "source": [
    "!pip install beautifulsoup4"
   ]
  },
  {
   "cell_type": "markdown",
   "metadata": {},
   "source": [
    "## Part 1: Explore the html for Wikipedia articles. "
   ]
  },
  {
   "cell_type": "markdown",
   "metadata": {},
   "source": [
    "### A. Using inspect element, copy the html code for a table."
   ]
  },
  {
   "cell_type": "markdown",
   "metadata": {},
   "source": [
    "<th colspan=\"2\" class=\"infobox-above summary\" style=\"font-size: 125%; font-style: italic;\">Cars 2</th>"
   ]
  },
  {
   "cell_type": "markdown",
   "metadata": {},
   "source": [
    "<th colspan=\"2\" class=\"infobox-above summary\" style=\"font-size: 125%; font-style: italic;\">Cars 2</th>"
   ]
  },
  {
   "cell_type": "markdown",
   "metadata": {},
   "source": [
    "### B. Using inspect element, find the html syntax for a link. "
   ]
  },
  {
   "cell_type": "markdown",
   "metadata": {},
   "source": [
    "<a href=\"/wiki/Walt_Disney_Pictures\" title=\"Walt Disney Pictures\">Walt Disney Pictures</a>"
   ]
  },
  {
   "cell_type": "markdown",
   "metadata": {},
   "source": [
    "<a href=\"/wiki/Walt_Disney_Pictures\" title=\"Walt Disney Pictures\">Walt Disney Pictures</a>"
   ]
  },
  {
   "cell_type": "markdown",
   "metadata": {},
   "source": [
    "### C. Using inspect element, find the html syntax for linking an image"
   ]
  },
  {
   "cell_type": "markdown",
   "metadata": {},
   "source": [
    "<img src=\"//upload.wikimedia.org/wikipedia/en/thumb/7/7f/Cars_2_Poster.jpg/220px-Cars_2_Poster.jpg\" decoding=\"async\" width=\"220\" height=\"325\" class=\"mw-file-element\" srcset=\"//upload.wikimedia.org/wikipedia/en/7/7f/Cars_2_Poster.jpg 1.5x\" data-file-width=\"259\" data-file-height=\"383\">"
   ]
  },
  {
   "cell_type": "markdown",
   "metadata": {},
   "source": [
    "<img src=\"//upload.wikimedia.org/wikipedia/en/thumb/7/7f/Cars_2_Poster.jpg/220px-Cars_2_Poster.jpg\" decoding=\"async\" width=\"220\" height=\"325\" class=\"mw-file-element\" srcset=\"//upload.wikimedia.org/wikipedia/en/7/7f/Cars_2_Poster.jpg 1.5x\" data-file-width=\"259\" data-file-height=\"383\">"
   ]
  },
  {
   "cell_type": "markdown",
   "metadata": {},
   "source": [
    "## Part 2: Explore one Wikipedia page with the beautifulsoup package"
   ]
  },
  {
   "cell_type": "code",
   "execution_count": 2,
   "metadata": {},
   "outputs": [],
   "source": [
    "#we will use the beautifulsoup library to process html output\n",
    "from bs4 import BeautifulSoup # a package that allows python to work with html\n",
    "\n",
    "#we will use the requests library to download html pages and images\n",
    "import requests # a package that allows python to access the internet\n",
    "import pandas as pd "
   ]
  },
  {
   "cell_type": "code",
   "execution_count": 3,
   "metadata": {},
   "outputs": [],
   "source": [
    "url = \"https://en.wikipedia.org/wiki/Cars_2\"\n",
    "\n",
    "response = requests.get(url) #fetching the webpage\n",
    "soup = BeautifulSoup(response.text, \"html.parser\") #parsing the webpage"
   ]
  },
  {
   "cell_type": "code",
   "execution_count": 7,
   "metadata": {},
   "outputs": [
    {
     "data": {
      "text/plain": [
       "'\\n\\n\\n\\nCars 2 - Wikipedia\\n\\n\\n\\n\\n\\n\\n\\n\\n\\n\\n\\n\\n\\n\\n\\n\\n\\n\\n\\n\\n\\n\\n\\n\\n\\n\\n\\n\\n\\n\\n\\n\\n\\n\\nJump to content\\n\\n\\n\\n\\n\\n\\n\\nMain menu\\n\\n\\n\\n\\n\\nMain menu\\nmove to sidebar\\nhide\\n\\n\\n\\n\\t\\tNavigation\\n\\t\\n\\n\\nMain pageContentsCurrent eventsRandom articleAbout WikipediaContact us\\n\\n\\n\\n\\n\\n\\t\\tContribute\\n\\t\\n\\n\\nHelpLearn to editCommunity portalRecent changesUpload fileSpecial pages\\n\\n\\n\\n\\n\\n\\n\\n\\n\\n\\n\\n\\n\\n\\n\\n\\n\\n\\n\\nSearch\\n\\n\\n\\n\\n\\n\\n\\n\\n\\n\\n\\nSearch\\n\\n\\n\\n\\n\\n\\n\\n\\n\\n\\n\\n\\n\\n\\n\\n\\n\\n\\n\\n\\n\\n\\nAppearance\\n\\n\\n\\n\\n\\n\\n\\n\\n\\n\\n\\n\\n\\n\\n\\n\\nDonate\\n\\nCreate account\\n\\nLog in\\n\\n\\n\\n\\n\\n\\n\\n\\nPersonal tools\\n\\n\\n\\n\\n\\nDonate Create account Log in\\n\\n\\n\\n\\n\\n\\t\\tPages for logged out editors learn more\\n\\n\\n\\nContributionsTalk\\n\\n\\n\\n\\n\\n\\n\\n\\n\\n\\n\\n\\n\\n\\n\\n\\n\\n\\n\\n\\n\\n\\n\\n\\n\\n\\n\\n\\nContents\\nmove to sidebar\\nhide\\n\\n\\n\\n\\n(Top)\\n\\n\\n\\n\\n\\n1\\nPlot\\n\\n\\n\\n\\n\\n\\n\\n\\n2\\nVoice cast\\n\\n\\n\\n\\n\\n\\n\\n\\n3\\nProduction\\n\\n\\n\\n\\nToggle Production subsection\\n\\n\\n\\n\\n\\n3.1\\nDevelopment\\n\\n\\n\\n\\n\\n\\n\\n\\n3.2\\nStory\\n\\n\\n\\n\\n\\n\\n\\n\\n3.3\\nAnimation\\n\\n\\n\\n\\n\\n\\n\\n\\n3.4\\nCasting\\n\\n\\n\\n\\n\\n\\n\\n\\n\\n\\n4\\nSoundtrack\\n\\n\\n\\n\\n\\n\\n\\n\\n5\\nRelease\\n\\n\\n\\n\\nToggle Release subsection\\n\\n\\n\\n\\n\\n5.1\\nLawsuit\\n\\n\\n\\n\\n\\n\\n\\n\\n5.2\\nShort film\\n\\n\\n\\n\\n\\n\\n\\n\\n5.3\\nHome media\\n\\n\\n\\n\\n\\n\\n\\n\\n\\n\\n6\\nReception\\n\\n\\n\\n\\nToggle Reception subsection\\n\\n\\n\\n\\n\\n6.1\\nBox office\\n\\n\\n\\n\\n\\n\\n\\n\\n6.2\\nCritical response\\n\\n\\n\\n\\n\\n\\n\\n\\n6.3\\nAccolades\\n\\n\\n\\n\\n\\n\\n\\n\\n\\n\\n7\\nVideo games\\n\\n\\n\\n\\n\\n\\n\\n\\n8\\nSequel and spin-offs\\n\\n\\n\\n\\n\\n\\n\\n\\n9\\nNotes\\n\\n\\n\\n\\n\\n\\n\\n\\n10\\nReferences\\n\\n\\n\\n\\n\\n\\n\\n\\n11\\nExternal links\\n\\n\\n\\n\\n\\n\\n\\n\\n\\n\\n\\n\\n\\n\\n\\n\\n\\n\\nToggle the table of contents\\n\\n\\n\\n\\n\\n\\n\\nCars 2\\n\\n\\n\\n55 languages\\n\\n\\n\\n\\nالعربيةAzərbaycancaবাংলাБеларускаяБългарскиBrezhonegCatalàČeštinaDanskDeutschΕλληνικάEspañolفارسیFiji HindiFrançais한국어Հայերենहिन्दीHrvatskiBahasa IndonesiaÍslenskaItalianoעבריתJawaქართულიҚазақшаLatviešuMagyarمصرىBahasa MelayuNederlands日本語Norsk bokmålNorsk nynorskOʻzbekcha / ўзбекчаPolskiPortuguêsRomânăРусскийසිංහලSimple EnglishSlovenčinaکوردیСрпски / srpskiSuomiSvenskaไทยTürkçeУкраїнськаاردوTiếng Việtייִדיש粵語Zazaki中文\\n\\nEdit links\\n\\n\\n\\n\\n\\n\\n\\n\\n\\n\\n\\nArticleTalk\\n\\n\\n\\n\\n\\nEnglish\\n\\n\\n\\n\\n\\n\\n\\n\\n\\n\\n\\n\\n\\n\\n\\n\\n\\nReadView sourceView history\\n\\n\\n\\n\\n\\n\\n\\nTools\\n\\n\\n\\n\\n\\nTools\\nmove to sidebar\\nhide\\n\\n\\n\\n\\t\\tActions\\n\\t\\n\\n\\nReadView sourceView history\\n\\n\\n\\n\\n\\n\\t\\tGeneral\\n\\t\\n\\n\\nWhat links hereRelated changesUpload filePermanent linkPage informationCite this pageGet shortened URLDownload QR code\\n\\n\\n\\n\\n\\n\\t\\tPrint/export\\n\\t\\n\\n\\nDownload as PDFPrintable version\\n\\n\\n\\n\\n\\n\\t\\tIn other projects\\n\\t\\n\\n\\nWikimedia CommonsWikiquoteWikidata item\\n\\n\\n\\n\\n\\n\\n\\n\\n\\n\\n\\n\\n\\n\\n\\n\\n\\n\\n\\n\\n\\nAppearance\\nmove to sidebar\\nhide\\n\\n\\n\\n\\n\\n\\n\\n\\n\\n\\n\\nFrom Wikipedia, the free encyclopedia\\n\\n\\n2011 Pixar film\\n\\n\\nCars 2Theatrical release posterDirected byJohn LasseterScreenplay byBen QueenStory by\\nJohn Lasseter\\nBrad Lewis\\nDan Fogelman\\nProduced byDenise ReamStarring\\nLarry the Cable Guy\\nOwen Wilson\\nMichael Caine\\nEmily Mortimer\\nJohn Turturro\\nEddie Izzard\\nCinematography\\nJeremy Lasky\\nSharon Calahan\\nEdited byStephen SchafferMusic byMichael GiacchinoProductioncompanyPixar Animation StudiosDistributed byWalt Disney StudiosMotion Pictures[a]Release dates\\nJune\\xa018,\\xa02011\\xa0(2011-06-18) (Hollywood)\\nJune\\xa024,\\xa02011\\xa0(2011-06-24) (United States)\\nRunning time106 minutesCountryUnited StatesLanguageEnglishBudget$200\\xa0million[1]Box office$559.8 million[2]\\nCars 2 is a 2011 American animated spy comedy film[3] produced by Pixar Animation Studios for Walt Disney Pictures. It is the sequel to Cars (2006), the second film in the Cars franchise, and the 12th animated film from the studio. The film was directed by John Lasseter, co-directed by Brad Lewis, produced by Denise Ream, and written by Ben Queen, Lasseter, Lewis, and Dan Fogelman. In the film\\'s ensemble voice cast, Owen Wilson, Larry the Cable Guy, Tony Shalhoub, Guido Quaroni, Bonnie Hunt, and John Ratzenberger reprise their roles from the first film. George Carlin, who previously voiced Fillmore, died in 2008, and his role was passed to Lloyd Sherr. They are joined by newcomers Michael Caine, Emily Mortimer, John Turturro, Eddie Izzard, and Thomas Kretschmann. In the film, Lightning McQueen and Mater agree to compete in the World Grand Prix, an international racing event showcasing a new alternative fuel called Allinol, but Mater inadvertently becomes involved in a dangerous espionage mission that puts both his and McQueen\\'s life in jeopardy.\\nCars 2 was first announced in April 2008 with a tentative summer 2012 release date, which was later moved up to the summer of 2011.[4] Lasseter was confirmed to be returning as director, while Lewis was designated as co-director in June 2010. The film\\'s story was conceived by Lasseter while he was traveling around the world promoting the first film. Michael Giacchino composed the film\\'s score, with artists such as Weezer, Robbie Williams, Brad Paisley and Bénabar contributing tracks for the film. This was the final Pixar film animated with their old software system, Marionette, before being officially replaced with Presto in 2012. With an estimated budget of $200 million, Cars 2 is one of the most expensive films ever made.\\nCars 2 premiered at the El Capitan Theatre in Los Angeles on June 18, 2011, and was released in the United States on June 24, in Disney Digital 3D and IMAX 3D as well as traditional two-dimensional and IMAX formats. Despite receiving mixed reviews from critics, Cars 2 continued Pixar\\'s streak of box office success, grossing over $559 million worldwide, becoming the tenth-highest-grossing film of 2011 and the highest-grossing film of the Cars trilogy. The film was nominated for Best Animated Feature Film at the 69th Golden Globe Awards, but lost to The Adventures of Tintin. A sequel, Cars 3, was released on June 16, 2017.\\n\\n\\nPlot\\nBritish spy Finn McMissile infiltrates an oil rig in the Pacific Ocean owned by criminal lemon cars to rescue fellow spy Leland Turbo. He witnesses the lemons, seemingly led by German weapons designer Professor Zündapp, loading an electromagnetic pulse generator, disguised as a TV camera, onto a shipping crate. After discovering Turbo\\'s death, Finn\\'s presence gets exposed to the lemons, and he escapes by faking his death.\\nAfter winning his fourth Piston Cup, Lightning McQueen returns to Radiator Springs to spend his off-season with his friends. Italian formula race car Francesco Bernoulli challenges Lightning to participate in the World Grand Prix, an international three-race event created by former oil tycoon Sir Miles Axlerod, who intends to promote his new environmentally friendly fuel, Allinol. Lightning and his best friend Mater — along with Luigi, Guido, Fillmore, and Sarge — depart for Tokyo, where the first race takes place.\\nAt a World Grand Prix promotional event, Mater makes a scene after eating wasabi (mistaking it for pistachio ice cream) and seemingly leaking on stage, embarrassing Lightning. While cleaning up, Mater interrupts a fight between American spy Rod \"Torque\" Redline (set to deliver some intel to Finn) and lemons Grem and Acer. Redline plants his tracking device on Mater, causing Finn and his associate Holley Shiftwell to mistake Mater for their contact. Meanwhile, Redline is captured and killed by Zündapp, who reveals that Allinol ignites when hit with an EMP. He informs his superior, an unknown mastermind, that Redline passed on his information. Holley finds and recruits Mater to stop Zündapp\\'s plot, though he mistakes this as her asking him out on a date.\\nDuring the race, three racers are ignited by the camera. Lightning placed second in the race after Bernoulli, due to miscommunication with Mater, who was evading Zündapp\\'s henchmen. Lightning confronts him at the pits, snapping at him and declaring that he doesn\\'t want his help. A guilt-ridden Mater prepares to board a plane back to Radiator Springs, but is abducted by Finn, and they escape from the lemons in his jet, Siddeley. After traveling to Paris to gather intel from Finn\\'s old friend Tomber, they head to Porto Corsa, Italy, where the second race takes place. Meanwhile, on the day before the race, Luigi and Guido\\'s uncle, Topolino, convinces a guilt-ridden Lightning to make amends with Mater. During the race, Mater infiltrates the lemons\\' meeting, just as the camera ignites some more racers, causing a multi-car pile-up, while Lightning wins. Due to controversy over Allinol\\'s safety, Axlerod lifts its requirement for use in the final race in London. When Lightning decides to continue using it, the lemons plan to kill him in the race. This spooks Mater, and he accidentally blows his cover, causing him, Finn, and Holley to be captured and tied up inside Big Bentley, where he admits to them that he is not the spy they think he is.\\nWhen the race starts, Lightning takes the lead before passing Big Bentley, but the camera was inexplicably defective on him. The lemons tell Mater that they planted a time bomb in Lightning\\'s pits as a backup plan, spurring him to escape. Finn and Holley escape but realize that the bomb was fitted on Mater\\'s air filter instead, having made his escape too easy to allay suspicion. As Mater is informed of this, he flees down the track, and Lightning pursues him to apologize for his outburst, while Finn apprehends Zündapp. The other lemons arrive and outnumber Finn, Holley, Mater, and Lightning, but they are rescued by the other Radiator Springs residents and Sarge\\'s colleagues in the British Army. Mater and Lightning go to Buckingham Palace, where Mater exposes Axlerod as the mastermind, proven when he is forced to disable the bomb. It is then revealed that the World Grand Prix was his cover-up to turn the world against alternative fuels, and use his ownership of the most untouched oil refineries in the world to gain profits. After Axlerod and the lemons are arrested by the London police, Mater receives an honorary knighthood from the Queen, and he and Lightning reconcile.\\nBack in Radiator Springs, as Mater tells everyone about his experience, Fillmore reveals that Sarge has swapped Allinol with his organic fuel, explaining the camera\\'s ineffectiveness on Lightning. A \"Radiator Springs Grand Prix\" is held, featuring the World Grand Prix contenders. Finn and Holley invite Mater to go on another mission, but he decides to stay in Radiator Springs. While his weapons get confiscated, he keeps the rockets and speeds off with Lightning, just as Siddeley speeds into the distance.\\n\\nVoice cast\\nMain article: List of Cars characters\\n\\nLarry the Cable Guy as Mater, a Southern-accented tow truck from Radiator Springs who becomes sidetracked with espionage.\\nOwen Wilson as Lightning McQueen, a Piston Cup racecar.\\nMichael Caine as Finn McMissile, a British spy car who, alongside Holley, helps Mater to foil the criminals.\\nEmily Mortimer as Holley Shiftwell, a young British desk agent and Finn\\'s assistant.\\nJohn Turturro as Francesco Bernoulli, McQueen\\'s main racing rival from Italy.\\nEddie Izzard as Sir Miles Axlerod, a British \"electric\" car who created Allinol and the World Grand Prix, and the mastermind behind the lemons\\' plot.\\nThomas Kretschmann as Professor Zündapp, a German car and Axlerod\\'s assistant who plans to sabotage the World Grand Prix. Kretschmann reprises the role in the film\\'s German dub.\\nJoe Mantegna and Peter Jacobson as Grem and Acer, Professor Zündapp\\'s henchmen.\\nBruce Campbell as Rod \"Torque\" Redline, an American spy car.\\nTony Shalhoub as Luigi\\nDarrell Waltrip as Darrell Cartrip\\nGuido Quaroni as Guido\\nBrent Musburger as Brent Mustangburger\\nJason Isaacs as:\\nSiddeley, an Gulfstream V spy jet.\\nLeland Turbo, a British agent car who sent the video message to Finn and is crushed into a cube by the lemons.\\nDavid Hobbs as David Hobbscap. Jacques Villeneuve voices the character in the film\\'s French dub.\\nStanley Townsend as:\\nVladimir Trunkov\\nIvan\\nVictor Hugo\\nLloyd Sherr as:\\nFillmore\\nTony Trihull, a combat ship.\\nPaul Dooley as Sarge\\nMichel Michelis as Tomber\\nSig Hansen as Crabby the Boat\\nFranco Nero as Uncle Topolino. Nero reprises the role in the film\\'s Italian dub.[5]\\nVanessa Redgrave as:\\nMama Topolino. In the film\\'s Italian dub, Sophia Loren voices Mama Topolino.[6]\\nThe Queen. Redgrave reprises the role in the film\\'s Italian dub.[5]\\nBonnie Hunt as Sally Carrera\\nCheech Marin as Ramone\\nJenifer Lewis as Flo\\nMichael Wallis as Sheriff\\nKatherine Helmond as Lizzie\\nJohn Ratzenberger as Mack\\nJeff Garlin as Otis\\nPatrick Walker as Mel Dorado\\nLewis Hamilton as himself\\nVelibor Topic as Alexander Hugo\\nJohn Mainier as J. Curby Gremlin\\nBrad Lewis as Tubbs Pacer\\nRichard Kind as Van\\nEdie McClurg as Minny\\nTeresa Gallagher as Mater\\'s computer\\nJeff Gordon as Jeff Gorvette\\nJohn Lasseter as John Lassetire\\n\\nThree voice actors of the first Cars film had died since its release: Joe Ranft (who voiced Red) died in an automobile accident in 2005, ten months before Cars (which was dedicated to his memory) was released, and therefore Red played no vocal role in the film; George Carlin (who voiced Fillmore) died of heart failure in June 2008, so Fillmore was voiced by Lloyd Sherr (who also voices Tony Trihull); and Paul Newman (who voiced Doc Hudson) died of cancer in September 2008. After Newman\\'s death, Lasseter said they would \"see how the story goes with Doc Hudson.\"[7] Doc was eventually dropped,[8] and implied to have died a few years before the events of Cars 2.\\nIn international versions of the film, the character Jeff Gorvette is replaced with race car drivers known in their specific countries for his dialogue scenes:[9] Mark Winterbottom as Frosty in the Australian release,[10][11] Fernando Alonso in the Spanish release, Vitaly Petrov in the Russian release, Jan Nilsson as Flash in the Swedish release,[12] Memo Rojas in the Latin American release, and Sebastian Vettel as Sebastian Schnell in the German release. Gorvette still appears as a competitor for most of the film. In Brazil, Gorvette is replaced by Carla Veloso in his dialogue scenes (Carla appears in all other versions of the film, but with no lines); Carla is voiced by Brazilian singer Claudia Leitte. Sportspeople still appear, with Lewis Hamilton voicing Formula One champion Emerson Fittipaldi, while Brent Mustangburger and David Hobbscap are voiced by sports announcers José Trajano\\xa0[pt] and Luciano do Valle.[13]\\n\\nProduction\\nDevelopment\\nCars (2006) is the second Pixar film, after Toy Story (1995), to have a sequel as well as become a franchise.[14] John Lasseter, the director of the film, explained that as with Toy Story 2 (1999) and Toy Story 3 (2010),[15] Pixar would only commit to doing a sequel when they have come up with idea that is different from but also as good as or better than the original film.[16] Lasseter stated that \"[...] the origins of Cars 2 came from three places\": the idea of having a spy movie with cars as characters inspired by an abandoned sequence from the first film, the desire to take the original film\\'s characters around the world in an international World Grand Prix, and the heart of the film which would address \"[...] McQueen and Mater\\'s friendship and how taking Mater out of Radiator Springs fractures their friendship […]\".[17] While traveling around the world promoting the first film, Lasseter imagined the characters in different countries. He said:I kept looking out thinking, \\'What would Mater do in this situation, you know?\\' I could imagine him driving around on the wrong side of the road in the UK, going around in big, giant traveling circles in Paris, on the autobahn in Germany, dealing with the motor scooters in Italy, trying to figure out road signs in Japan.[18]\\nPre-production began as early as 2006, the same year the first Cars was released, with production designer Harley Jessup tasked with designing the film\\'s many planned sets.[19] Brad Lewis, the producer of Ratatouille (2007), was chosen to be the director.[20] Lewis was delegated with conducting the early research of the international countries and Formula 1 racing, while Lasseter would become more involved as the film entered production.[19] Producer Denise Ream revealed that the first storyboard for the film, which was that of the film\\'s opening sequence, originated from a deleted scene from the first film, storyboarded by the late Joe Ranft in 2001.[21] Ream, who came on to the film in 2008, added that the film\\'s official production length was three-and-a-half years, quicker than the standard five years that most Pixar films take.[22] Pixar selected Ben Queen, co-creator and executive producer of the Fox television series, Drive (2007), to write the film after discovering an original screenplay of his. Queen described the screenwriting process at Pixar as \"Very collaborative, very fun\", and found Pixar\\'s strategy of shifting genres on sequels to be \"gutsy\" and showed a real confidence in vision.[15] In April 2008, Pixar unveiled its latest animation slate, with Cars 2 scheduled for a summer 2012 release.[23][24] In September 2008, the film\\'s release date was announced to have moved up to the summer of 2011.[4] In 2009, Disney registered several domain names, hinting to audiences that the title and theme of the film would be in relation to a \"World Grand Prix\".[25]\\nIn February 2010, Blue Sky Disney reported that Lasseter had been spending less time at Disney and more time at Pixar to help solve story problems on Cars 2.[26] In an interview the following month, Lasseter revealed that he was not directing any films at that time.[27] However, by June 2010, it was announced that Lasseter had been designated as co-director and was ultimately revealed to have replaced Lewis as the film\\'s official main director during that time while Lewis became the co-director.[28]\\nLasseter, who had stayed busy directing the Cars Toons between the completion of Cars and his work on Cars 2,[27] was excited to return to directing films and described working with a team that included many new artists as \"[...] really a joy\" after having focused most of his time in his chief creative officer role at Pixar and Disney since the first Cars.[17] For the last year-and-a-half of the making of Cars 2, Lasseter spent nearly all of his time working on the film but occasionally checked in as executive producer on Toy Story 3 (2010), Tangled (2010), and Winnie the Pooh (2011).[19][29][30] The various teams behind Cars 2 found creative solutions for accommodating Lasseter\\'s busy schedule to allow him the time and resources to direct the film on a compressed schedule while also checking in as executive producer on the other films. One critical solution came from Lasseter\\'s partner, Steve Jobs, with the release of the iPad.[19] Supervising technical director Apurva Shah wrote a review tool app on the iPad for Lasseter that allowed him to complete reviews via recorded voice memos for all departments including lighting, animation, effects, set design, and layout when outside the office primarily during commutes to and from work. Lasseter still attended all story meetings in person.[19] \"One hour on the iPad equaled three hours in the studio,\" according to Lasseter, who added, \"I kept in touch with everyone. I did reviews in the car.\"[19]\\n\\nStory\\nLasseter expressed that Cars 2 was an extremely personal film for him, saying \"[...] I set out to make a film that was really fun from beginning to end and really different from Cars in action and setting and characters. And yet it still had the emotion, which is the hallmark of a Pixar film.\"[17] For the film\\'s first research trip that included a Formula 1 race, the filmmaking team attended a party at the Milan Museum of Modern Art in Italy. Lasseter recounted feeling out of place at the party wearing jeans and a Hawaiian shirt while being surrounded by models and other high-profile attendants, saying he felt like Mater and would later incorporate this idea into the film.[31] Lasseter took inspiration from the television series The Man from U.N.C.L.E. (1964–68) as well as The Bourne Identity (2002), The Bourne Supremacy (2004), and The Bourne Ultimatum (2007) for incorporating the spy genre into the world of Cars.[31] He also cited Alfred Hitchcock\\'s films The Man Who Knew Too Much (1956) and North by Northwest (1959) as inspiration for the main storyline as they both feature an innocent character who gets caught up in a conspiracy.[32]\\nOriginally, the World Grand Prix was going to feature five races, including a 24-hour Le Mans-style endurance race in Paris, France and a rally race in Black Forest, Germany in addition to the races in Tokyo, Japan, the fictional city of Porto Corsa, Italy and London, England that ended up in the final film. Lasseter said the race had gotten too big and the film too long, so they trimmed the event down to three races. The races in Black Forest and Paris were dropped completely, and the scene in Paris was restructured to instead have Mater, Finn and Holley stop by to consult with an informant.[33] For Italy, Ream explained that the Pixar teams decided to create a fictional town instead of recreate an existing one due to Lasseter\\'s love of many different real towns in Italy and the desire to create a brand new Italian city that people would want to visit.[34]\\nReam noted the challenge of finding the tone in a spy story for an audience that included families, saying, \"That was a large part of what we ended up doing, trying to get the spy story correct and clear, so everyone could understand it. That was really tricky\".[22] Story supervisor Nathan Stanton commented that among the story\\'s biggest challenges were the scope and the heart. The passing of Paul Newman\\'s character from the first film, Doc Hudson, was one such challenge as the original intention was for the character to come back for the sequel. Pixar ultimately chose not to recast Doc Hudson and instead imply that he had died sometime before the events of Cars 2. The story team also considered Doc\\'s passing as an emotional plot point similar to the loss of a father figure that McQueen and Mater would deal with, but the team ultimately felt that angle didn\\'t work and simply focused on Mater and McQueen\\'s friendship as the emotional core.[35] Stanton added that the complexity of the story was difficult to convey, and there was not much heart in the project for a long time. The team continued to rework the story with each screening to find the right balance of showing McQueen and Mater\\'s friendship, the World Grand Prix, and the conspiracy involving Miles Axlerod.[35]\\n\\nCars 2 was the first film Lasseter directed without the involvement of his close friend and collaborator, Joe Ranft, co-director and co-writer of the first Cars who died in 2005.[36] Ranft was a story supervisor on each of Lasseter\\'s first four directorial efforts: Toy Story, A Bug\\'s Life, Toy Story 2, and Cars.[37] In addition, he provided minor voice roles in each of Pixar\\'s first seven films which included Lasseter\\'s films as well as Monsters, Inc., Finding Nemo, and The Incredibles.[38] Despite his absence, Ranft continued to serve as inspiration for Lasseter during the making of the film and in crafting Mater\\'s arc. On working in Ranft\\'s absence, Lasseter commented:\"It was rough[...]Joe was such an important part of my life. You know, like my best friend. My right hand man, my true wingman[...]You know I thought of Joe all through this. Because, you know Joe is Mater. He’s all over Cars 2\".[39]\\nAnimation\\nCars 2 had 118 unique sets, double that of most Pixar films up to that point apart from the 80 to 90 sets used for The Incredibles.[19] The film called for many new techniques that the studio had not encountered before or to the level of this film. As such, Lasseter described the film as technologically ten times more complex than any previous Pixar film.[40]\\nSets supervisor John Halstead emphasized that the carification process necessary for this film was carefully handled so as to not be heavy-handed, saying \"We try to add the car features in a way that sits quietly. If you’re looking for it, you will notice it, but we don’t want to detract from the characters.\"[19] The driving system used on the first Cars was refined to allow the animators to have the cars perform sharper turns when racing. Because the film would feature different race tracks that were each unique to their respective countries, the layout artists and sets department collaborated to create appropriate blocking paths for the cars and then tackle the challenge of setting up interesting camera angle shots during the races. Each sequence typically took four to six weeks to complete.[19] The international story called for the inclusion of numerous new kinds of cars and other vehicles. In creating the new vehicles, the automotive designers followed Lasseter\\'s edict of \"truth to materials\".[19] Upon studying the first film, the filmmakers greatly reduced the number of controls used on characters in the sequel after finding that a substantial amount of them were never used in the first film.[40] The team developed new techniques for creating fully 3D cities using a software program called Procedural, Inc. and a new procedural approach for creating various types of vegetation.[19] The team also implemented a new system developed by Jerry Tessendorf into their previous system that was used to create the water in Finding Nemo to now create more realistic water and ocean surfaces for the opening sequence.[19] Additionally, the teams made low-level routine edits to the shader code used for Radiator Springs in the first film to make it compatible with the lighting in this film.[19]\\nAccording to directing animator Victor Navone, roughly 50% of the film was animated in the span of ten weeks. Navone said that while the schedule was very challenging, the collaboration between all animators boosted morale and noted that Lasseter coming on to direct the film gave the show more focus and energy.[41]\\n\\nCasting\\nIn November 2010, the film\\'s synopsis was announced, revealing the espionage racing storyline, along with a first look image and official poster.[42][43][44] The same month, Owen Wilson, Larry the Cable Guy, Michael Caine, Emily Mortimer, Jason Isaacs, Joe Mantegna, Peter Jacobson, Bonnie Hunt, Tony Shalhoub, Cheech Marin, and Thomas Kretschmann were confirmed as the voice talent featured in the film.[45] From November 2010 until May 2011, Disney released information about the other voice talent, including Jenifer Lewis, Katherine Helmond, Michael Wallis, Darrell Waltrip, Franco Nero, Vanessa Redgrave, Bruce Campbell, Sig Hansen, Michel Michelis, Jeff Gordon, Lewis Hamilton, Brent Musburger, David Hobbs, John Turturro, and Eddie Izzard.[46]\\n\\nSoundtrack\\nMain article: Cars 2 (soundtrack)\\n\\n\\nCars 2 (Original Motion Picture Soundtrack)Soundtrack album by Various ArtistsReleasedJune 14, 2011GenreSoundtrackLength63:24LabelWalt DisneyMichael Giacchino chronology\\n\\n\\nLet Me In(2010)\\n\\nCars 2 (Original Motion Picture Soundtrack)(2011)\\n\\nSuper 8(2011)\\nPixar film soundtrack chronology\\n\\n\\nToy Story 3(2010)\\n\\nCars 2(2011)\\n\\nBrave(2012)\\n\\n\\n\\nProfessional ratingsReview scoresSourceRatingAllMusicFilmtracks\\nThe soundtrack for the film was released on both CD and digital download on June 14, 2011. Cars 2 is the fourth Pixar film to be scored by Michael Giacchino, after The Incredibles, Ratatouille and Up.[47] It was also the first and only Pixar film directed by John Lasseter not to be scored by Randy Newman, who scored the first and third films of the Cars franchise.\\n\\nAll music is composed by Michael Giacchino, except where noted.Cars 2 (Original Motion Picture Soundtrack) track listingNo.TitleWriter(s)Artist(s)Length1.\"You Might Think\" (Cover of The Cars)Ric OcasekWeezer3:072.\"Collision of Worlds\"Robbie WilliamsBrad PaisleyWilliamsPaisley3:363.\"Mon Cœur Fait Vroum (My Heart Goes Vroom)\"Michael GiacchinoScott LangteauBénabar2:494.\"Nobody\\'s Fool\"PaisleyPaisley4:175.\"Polyrhythm\"Yasutaka NakataPerfume4:096.\"Turbo Transmission\"\\xa0\\xa00:527.\"It\\'s Finn McMissile!\"\\xa0\\xa05:548.\"Mater the Waiter\"\\xa0\\xa00:439.\"Radiator Reunion\"\\xa0\\xa01:4010.\"Cranking Up the Heat\"\\xa0\\xa01:5911.\"Towkyo Takeout\"\\xa0\\xa05:4012.\"Tarmac the Magnificent\"\\xa0\\xa03:2713.\"Whose Engine Is This?\"\\xa0\\xa01:2214.\"History\\'s Biggest Loser Cars\"\\xa0\\xa02:2615.\"Mater of Disguise\"\\xa0\\xa00:4816.\"Porto Corsa\"\\xa0\\xa02:5517.\"The Lemon Pledge\"\\xa0\\xa02:1318.\"Mater\\'s Getaway\"\\xa0\\xa00:5919.\"Mater Warns McQueen\"\\xa0\\xa01:3120.\"Going to the Backup Plan\"\\xa0\\xa02:2421.\"Mater\\'s the Bomb\"\\xa0\\xa03:1722.\"Blunder and Lightning\"\\xa0\\xa02:1723.\"The Other Shoot\"\\xa0\\xa01:0324.\"Axlerod Exposed\"\\xa0\\xa02:2225.\"The Radiator Springs Grand Prix\"\\xa0\\xa01:3026.\"The Turbomater\"\\xa0\\xa00:50Total length:63:22\\nRelease\\nDuring the summer of 2008, John Lasseter announced that Cars 2 would be pushed forward and released in the summer of 2011, one year earlier than its original 2012 release date.[48] The US release date was later confirmed to be June 24, 2011, with a UK release date set for July 22, 2011.[49] The world premiere of the film took place at the El Capitan Theatre in Hollywood on June 18, 2011.[50] Cars 2 was released in 4,115 theaters in the USA and Canada,[51] setting a record-high for a G-rated film[52] and for Pixar. The latter was surpassed by Brave (4,164 theaters).[53] The film was presented in Disney Digital 3D and IMAX 3D, as well as traditional two-dimensional and IMAX formats.[54]\\n\\nLawsuit\\nIn March 2011, Jake Mandeville-Anthony, a U.K. screenwriter, sued Disney and Pixar alleging copyright infringement and breach of implied contract. In his complaint he alleged that Cars and Cars 2 are based in part on work that he had submitted in the early 1990s and he sought an injunction to stop the release of Cars 2 and requested actual or statutory damages. On May 13, 2011, Disney responded to the lawsuit, denying \"each and every one of Plaintiff\\'s legal claims concerning the purported copyright infringement and substantial similarity of the parties\\' respective works.\"[55] On July 27, 2011, the lawsuit was dismissed by a district court judge who, in her ruling, wrote that the \"Defendants have sufficiently shown that the Parties\\' respective works are not substantially similar in their protectable elements as a matter of law\".[56]\\n\\nShort film\\nMain article: Hawaiian Vacation\\nThe film was preceded by a short film titled Hawaiian Vacation, directed by Gary Rydstrom and starring the characters of the Toy Story franchise.\\n\\nHome media\\nThe film was released by Walt Disney Studios Home Entertainment on DVD, Blu-ray, Blu-ray 3D, and digital download on November 1, 2011. This release was produced in four different physical packages: a 1-disc DVD, a 2-disc combo pack (DVD and Blu-ray), a 5-disc combo pack (DVD, Blu-ray, Blu-ray 3D, and Digital Copy), and an 11-disc three movie collector\\'s set, which features Cars, Cars 2, and Cars Toons: Mater\\'s Tall Tales. The film was also released as a Movie Download edition in both standard and high definition.[57]\\nThe Movie Download release includes four bonus features: Cars Toons \"Air Mater\", the Toy Story Toon \"Hawaiian Vacation\", \"World Tour Interactive Feature\", and \"Bringing Cars 2 to the World\". The 1-disc DVD and 2-disc Blu-ray/DVD combo pack releases include the shorts \"Air Mater\" and \"Hawaiian Vacation\", plus the Director John Lasseter Commentary. The 5-disc combo pack includes all of the same bonus features as the 1-disc DVD and 2-disc Blu-ray/DVD combo pack versions, in addition to \"World Tour Interactive Feature\" and \"Sneak Peek: The Nuts and Bolts of Cars Land.\" The 11-disc three movie collection comes packaged with Cars (DVD, Blu-ray, and Digital Copy), Cars 2 (DVD, Blu-ray, Blu-ray 3D, and Digital Copy), and Mater\\'s Tall Tales (DVD, Blu-ray, and Digital Copy).[57]\\nCars 2 sold a total of 1,983,374 DVD units during its opening week,[58] generating $31.24 million and claiming first place.[59] It also finished on the top spot on the Blu-ray chart during its first week, selling 1.76 million units and generating $44.57 million. Its Blu-ray share of home media was 47 percent, indicating an unexpectedly major shift of sales from DVD to Blu-ray.[60] Blu-ray 3D contributed to this, accounting for 17% of total disc sales.[61] On September 10, 2019, Cars 2 was released on 4K Ultra HD Blu-ray.[62][63]\\n\\nReception\\nBox office\\nCars 2 grossed $191.5 million in the United States and Canada, and $370.7 million in other countries for a worldwide total of $562.1 million.[2] Worldwide on its opening weekend it grossed $109\\xa0million, marking the largest opening weekend for a 2011 animated title.[64] Overall, Cars 2 became the seventh-biggest Pixar film in worldwide box office among the fourteen released, and was the tenth-highest-grossing film of 2011.[65]\\nCars 2 made $25.7\\xa0million on its debut Friday (June 24, 2011), marking the second-largest opening day for a Pixar film, at the time, after Toy Story 3\\'s $41.1\\xa0million. During this time, though, it was the third least-attended opening day for a Pixar film, only ahead of Up and Ratatouille.[66] It also scored the sixth largest opening day for an animated feature.[67] On its opening weekend as a whole, Cars 2 debuted at No.1 ahead of Green Lantern and Bad Teacher with $66.1\\xa0million,[51] marking the largest opening weekend for a 2011 animated feature, the seventh largest opening for Pixar,[68] the eighth largest among films released in June,[69] and the fourth largest for a G-rated film.[70] In its second weekend, however, the film was overtaken by Transformers: Dark of the Moon, dropping 60.3% and grossing $26.2\\xa0million.[71]\\nOutside North America, it grossed $42.9\\xa0million during its first weekend from 3,129 theaters in 18 countries, topping the box office.[72] It performed especially well in Russia where it grossed $9.42 million,[73] marking the best opening weekend for a Disney or Pixar animated feature and surpassing the entire runs of Cars and Toy Story 3.[74] In Mexico, it made $8.24 million during its first weekend,[75] while in Brazil, it topped the box office with $5.19 million ($7.08 million with previews).[76] It also premiered at No.1 with $5.16 million in Australia,[77] where it debuted simultaneously with Kung Fu Panda 2 and out-grossed it.[72] It is the highest-grossing film of 2011 in Lithuania ($477,117),[78] Argentina ($12 million).[79] It is the highest-grossing animated film of 2011 in Estonia ($442,707),[80] Finland ($3.2 million),[81] Norway ($5.8 million).[82]\\n\\nCritical response\\nOn the review aggregator website Rotten Tomatoes, 39% of 221 critics\\' reviews are positive, with an average rating of 5.5/10. The website\\'s consensus reads: \"Cars 2 is as visually appealing as any other Pixar production, but all that dazzle can\\'t disguise the rusty storytelling under the hood.\"[83] It is the lowest-rated Pixar film on the site to date and the only one to earn a \"rotten\" certification.[84][85] Another review aggregator, Metacritic, which assigns a weighted average score to reviews from mainstream critics, gave the film an average score of 57 out of 100, based on 38 critics, indicating \"mixed or average\" reviews.[86] Audiences polled by CinemaScore gave the film an average grade of \"A−\" on an A+ to F scale.[87]\\n\"The original Cars was not greeted with exceptional warmth,\" said The New York Times, \"but the sequel generated Pixar\\'s first truly negative response.\"[88] \\nCritics generally criticized the focus on Mater and felt the film lacked warmth and charm, while also feeling the film was made as an exercise in target marketing and was too violent to be given a G rating.[89][90][91][92] Reviewing the film for The Wall Street Journal, Joe Morgenstern wrote, \"This frenzied sequel seldom gets beyond mediocrity.\"[93] Entertainment Weekly critic Owen Gleiberman said, \"Cars 2 is a movie so stuffed with \"fun\" that it went right off the rails. What on earth was the gifted director-mogul John Lasseter thinking – that he wanted kids to come out of this movie was [sic] more ADD?\"[94] Although Leonard Maltin on IndieWire claimed that he had \"such high regard for Pixar and its creative team led by John Lasseter\" he said he found the plot \"confusing\" and felt that Mater\\'s voice was annoying, saying that he\\'d \"rather listen to chalk on a blackboard than spend nearly two hours with Tow Mater.\"[95]\\nConversely, Peter Travers of Rolling Stone gave the film 3½ stars out of four, and said that \"the sequel is a tire-burning burst of action and fun with a beating heart under its hood.\" He also praised its \"fluid script\" and called it a \"winner\".[96] Roger Ebert was the most effusive of the more positive reviews, praising Lasseter\\'s channeling of childhood playtime for the film\\'s spirit and writing, \"At a time when some \\'grown-up\\' action films are relentlessly shallow and stupid, here is a movie with such complexity that even the cars sometimes have to pause and explain it to themselves.\"[97] Justin Chang of Variety commented, \"The rare sequel that not only improves on but retroactively justifies its predecessor.\"[98] Ticket buyers also gave the film an A− in exit polls, on par with other Pixar titles.[88]\\nA central vein of many negative reviews was the theory that the Walt Disney Company forced Cars 2 into production at Pixar out of greed in order to drive merchandising sales.[93][99] Lasseter vehemently denied these claims, which he attributed to \"people who don\\'t know the facts, rushing to judge.\"[88] Some theorized that the vitriol was less about the film but more about Pixar\\'s broadened focus to sequels. The New York Times reported that although one negatively reviewed film would not be enough to scratch the studio, \"the commentary did dent morale at the studio, which until then had enjoyed an unbroken and perhaps unprecedented run of critical acclaim.\"[88]\\n\\nAccolades\\nCars 2 marks the first Pixar film not to be nominated for an Oscar.[100] It is also the first Pixar film not nominated for Best Animated Feature since its introduction in 2001.[101]\\n\\n\\nAccolades received by Cars 2\\n\\n\\nAward\\n\\nDate of ceremony\\n\\nCategory\\n\\nRecipient(s)\\n\\nResult\\n\\nRef.\\n\\n\\nAlliance of Women Film Journalists Awards\\n\\nJanuary 10, 2012\\n\\nSequel or Remake That Shouldn\\'t Have Been Made\\n\\nCars 2\\n\\nNominated\\n\\n[102][103]\\n\\n\\nAnnie Awards\\n\\nFebruary 4, 2012\\n\\nBest Animated Feature\\n\\nCars 2\\n\\nNominated\\n\\n[104]\\n\\n\\nOutstanding Achievement for Animated Effects in an Animated Production\\n\\nEric Froemling\\n\\nNominated\\n\\n\\nJon Reisch\\n\\nNominated\\n\\n\\nOutstanding Achievement for Character Design in a Feature Production\\n\\nJay Shuster\\n\\nNominated\\n\\n\\nOutstanding Achievement for Editorial in a Feature Production\\n\\nStephen Schaffer\\n\\nNominated\\n\\n\\nOutstanding Achievement for Storyboarding in a Feature Production\\n\\nScott Morse\\n\\nNominated\\n\\n\\nOutstanding Achievement for Production Design in an Animated Feature Production\\n\\nHarley Jessup\\n\\nNominated\\n\\n\\nArtios Awards\\n\\nOctober 29, 2012\\n\\nAnimation\\n\\nKevin Reher and Natalie Lyon\\n\\nNominated\\n\\n[105][106]\\n\\n\\nBritish Academy Children\\'s Awards\\n\\nNovember 27, 2011\\n\\nKid\\'s Vote — Film\\n\\nCars 2\\n\\nNominated\\n\\n[107]\\n\\n\\nGolden Globe Awards\\n\\nJanuary 15, 2012\\n\\nBest Animated Feature Film\\n\\nCars 2\\n\\nNominated\\n\\n[108]\\n\\n\\nGolden Reel Awards\\n\\nFebruary 19, 2012\\n\\nOutstanding Achievement in Sound Editing – Sound Effects, Foley, Dialogue and ADR for Animated Feature Film\\n\\nCars 2\\n\\nNominated\\n\\n[109][110]\\n\\n\\nGolden Trailer Awards\\n\\nJune 29, 2011\\n\\nBest Animation/Family\\n\\n\"Spies Are Us\" (MOCEAN)\\n\\nNominated\\n\\n[111]\\n\\n\\nHollywood Post Alliance Awards\\n\\nNovember 10, 2011\\n\\nOutstanding Editing – Feature Film\\n\\nStephen Schaffer\\n\\nNominated\\n\\n[112][113]\\n\\n\\nOutstanding Sound – Feature Film\\n\\nTom Myers, Michael Silvers, and Michael Semanick\\n\\nNominated\\n\\n\\nNickelodeon Kids\\' Choice Awards\\n\\nMarch 31, 2012\\n\\nFavorite Animated Movie\\n\\nCars 2\\n\\nNominated\\n\\n[114]\\n\\n\\nPeople\\'s Choice Awards\\n\\nJanuary 11, 2012\\n\\nFavorite Movie Animated Voice\\n\\nOwen Wilson\\n\\nNominated\\n\\n[115]\\n\\n\\nProducers Guild of America Awards\\n\\nJanuary 21, 2012\\n\\nBest Animated Motion Picture\\n\\nDenise Ream\\n\\nNominated\\n\\n[116]\\n\\n\\nSaturn Awards\\n\\nJuly 26, 2012\\n\\nBest Animated Film\\n\\nCars 2\\n\\nNominated\\n\\n[117][118]\\n\\n\\nVisual Effects Society Awards\\n\\nFebruary 7, 2012\\n\\nOutstanding Virtual Cinematography in an Animated Feature Motion Picture\\n\\nMahyar Abousaeedi, Jeremy Lasky, and Jonathan Pytko\\n\\nNominated\\n\\n[119][120]\\n\\n\\n\\nVideo games\\nMain article: Cars 2 (video game)\\nA video game based on the film was developed by Avalanche Software and published by Disney Interactive Studios for the PlayStation 3, Xbox 360, Wii, PC and Nintendo DS on June 21, 2011.[121] The PlayStation 3 version of the game was reported to be compatible with stereoscopic 3D gameplay.[122] A Nintendo 3DS version was released on November 1, 2011,[123] and a PSP version was released on November 8, 2011.[124]\\nAn app based on the film was released on iTunes for a dollar on June 23, 2011. The Lite version was released for free that same day. The object of the game was to complete each race, unlock new levels, and get a high score. As of June 28, 2011, the app had hit No. 1 on the App Store.[125] The game was retired on August 29, 2014.[126]\\nA V.Smile version was also released.\\n\\nSequel and spin-offs\\nMain articles: Cars 3, Planes (film), and Planes: Fire & Rescue\\nA sequel, titled Cars 3, was released on June 16, 2017.[127] Directed by Brian Fee, the film focuses on Lightning McQueen, now a veteran racer, who after being overshadowed by a new wave of rookies, gets help from a younger car, Cruz Ramirez, to instruct him for the increasingly high-tech world and defeat new rival Jackson Storm.[128]\\nAn animated feature film spin-off titled Planes, produced by DisneyToon Studios,[129] was released on August 9, 2013.[130] A sequel to Planes, titled Planes: Fire & Rescue, was released on July 18, 2014.[131]\\n\\nNotes\\n\\n\\n^ Distributed by Walt Disney Studios Motion Pictures through the Walt Disney Pictures banner.\\n\\n\\nReferences\\n\\n^ Fritz, Ben (June 24, 2011). \"Movie Projector: \\'Cars 2\\' expected to sputter to No. 1 (Updated)\". Los Angeles Times. Archived from the original on August 26, 2011. Retrieved June 24, 2011.\\n\\n^ a b \"Cars 2 (2011)\". Box Office Mojo. Archived from the original on March 21, 2012. Retrieved August 20, 2016.\\n\\n^ Child, Ben (July 22, 2011). \"Pixar\\'s John Lasseter: \\'Cars 2 is a spy movie\\'\". The Guardian. ISSN\\xa00261-3077. Archived from the original on October 29, 2021. Retrieved April 1, 2020.\\n\\n^ a b Billington, Alex (September 25, 2008). \"Pixar\\'s Cars 2 Pushed Up to Summer of 2011\". FirstShowing.net. Retrieved December 30, 2024.\\n\\n^ a b Le voci italiane di Cars 2 - 01/06/2011 Archived June 15, 2015, at the Wayback Machine\\n\\n^ \"Sophia Loren dubs \\'Cars 2\\' mamma\". Yahoo! News. AP. June 16, 2011. Archived from the original on November 1, 2012. Retrieved July 4, 2011.\\n\\n^ Adler, Shawn (November 17, 2010). \"Will Paul Newman\\'s Character Return For \\'Cars 2\\'?\". MTV. Archived from the original on April 4, 2011. Retrieved January 17, 2011.\\n\\n^ Keegan, Rebecca (January 16, 2011). \"2011 Movie Preview: \\'Cars 2\\'\". Los Angeles Times. Retrieved March 4, 2011.\\n\\n^ \"Hollywodd tailoring movies for overseas audiences\". HULIQ. May 13, 2011. Archived from the original on May 30, 2011. Retrieved May 16, 2011.\\n\\n^ \"V8 Supercar driver Mark Winterbottom is Frosty in Cars 2\". The Daily Telegraph. UK. March 21, 2011. Archived from the original on May 11, 2011. Retrieved April 2, 2011.\\n\\n^ \"Supercar star gets animated in film role\". The Daily Telegraph. UK. March 22, 2011. Archived from the original on May 11, 2011. Retrieved April 2, 2011.\\n\\n^ Meissner, Johan (June 2011). \"Jan \"Flash\" Nilsson gets a role in Cars 2\". Flash Engineering. Archived from the original on October 7, 2011. Retrieved June 20, 2011.\\n\\n^ \"Dubladores famosos de Carros 2\". Universo Online (in Portuguese). May 2011. Archived from the original on April 27, 2014. Retrieved June 20, 2011.\\n\\n^ Topel, Fred (March 11, 2010). \"A Sneak Preview Of Pixar Sequels \\'Toy Story 3\\' & \\'Cars 2\\'\". Starpulse. Archived from the original on April 9, 2011. Retrieved May 19, 2011.\\n\\n^ a b Noyer, Jérémie (June 19, 2011). \"Cars 2 screenwriter Ben Queen on the race for his \"Art Of\" book!\". animatedviews.com. Retrieved December 28, 2024.\\n\\n^ \"John Lasseter Public Interview - Cars 2 - In Conversation With... IFTA Ireland\". August 1, 2011. Retrieved December 28, 2024 – via YouTube.\\n\\n^ a b c Desowitz, Bill (April 19, 2011). \"Lasseter Talks \\'Cars 2\\'\". AWN.com. Animation World Network. Retrieved December 28, 2024.\\n\\n^ Day, Aubrey (March 6, 2009). \"Interview: John Lasseter\". Total Film. Archived from the original on June 10, 2009. Retrieved June 12, 2009.\\n\\n^ a b c d e f g h i j k l m Robertson, Barbara (June 2011). \"The World is Not Enough\". www.cgw.com. Retrieved December 28, 2024.\\n\\n^ Hayes, Dade; Fritz, Ben (April 8, 2008). \"Disney unveils animation slate\". Variety. Archived from the original on March 12, 2016. Retrieved April 14, 2022.\\n\\n^ \"Empire Magazine: Denise Ream On Cars 2\". July 9, 2011. Retrieved December 28, 2024 – via YouTube.\\n\\n^ a b Brew, Simon (July 24, 2011). \"Denise Ream interview: Eraser, Cars 2, stop motion animation, Star Wars and Pixar\". Den of Geek. Retrieved December 28, 2024.\\n\\n^ Sciretta, Peter (April 8, 2008). \"Pixar Announces Up, Newt, The Bear and the Bow and Cars 2\". SlashFilm. Archived from the original on June 13, 2018. Retrieved May 18, 2011.\\n\\n^ Billington, Alex (April 9, 2008). \"Disney and Pixar\\'s Full Animated Line-Up Through 2012\". First Showing. Archived from the original on June 13, 2018. Retrieved May 18, 2011.\\n\\n^ Parks, Tim (August 25, 2009). \"Disney \"hints at Cars sequel title\"\". Digital Spy. Archived from the original on April 17, 2010. Retrieved July 16, 2010.\\n\\n^ Hunter, Honor (February 15, 2010). \"Cars 2 Gets A Toon Up...\" Blue Sky Disney. Retrieved December 28, 2024.\\n\\n^ a b Frost, John (March 13, 2010). \"John Lasseter on The Princess and The Frog\". The Disney Blog. Retrieved December 28, 2024.\\n\\n^ Scirettra, Peter (June 23, 2010). \"John Lasseter Now Officially Co-Directing Cars 2\". /Film. Archived from the original on April 14, 2022. Retrieved April 14, 2022.\\n\\n^ Eisenberg, Eric (July 16, 2011). \"Exclusive Interview: Winnie The Pooh Directors Stephen J. Anderson And Don Hall\". Cinema Blend. Grant Land. Retrieved December 28, 2024.\\n\\n^ \"John Lasseter talks Cars 2\". July 21, 2011. Retrieved December 28, 2024 – via YouTube.\\n\\n^ a b \"Cars 2 - Autres questions à John Lasseter\". June 7, 2012. Retrieved December 28, 2024 – via YouTube.\\n\\n^ O, Christie (June 28, 2011). \"Inside CARS 2 with Director John Lasseter\". 5 Minutes for Mom. Retrieved December 28, 2024.\\n\\n^ Hixon, Michael (June 22, 2011). \"Movie Watch: Cars 2\". The Beach Reporter. Daily Breeze. Retrieved December 28, 2024.\\n\\n^ \"Cars 2 - Questions à Denise Ream\". June 10, 2012. Retrieved December 28, 2024 – via YouTube.\\n\\n^ a b Chitwood, Adam (May 9, 2011). \"Story Supervisor Nathan Stanton CARS 2 Exclusive Interview\". Collider. Retrieved December 28, 2024.\\n\\n^ Whitson, James (August 17, 2005). \"Joe Ranft, dead at 45\". animatedviews.com. Josh Armstrong. Retrieved February 2, 2025.\\n\\n^ \"Pixar exec dies in car accident\". Variety. August 18, 2005. Retrieved February 2, 2025.\\n\\n^ Korkis, Jim (January 9, 2013). \"A Brief Talk with Joe Ranft\". MousePlanet. Retrieved February 2, 2025.\\n\\n^ Cody, Bill (June 22, 2011). \"John Lasseter Talks \\'Cars 2\\' and the Memory of His Friend and Collaborator, Joe Ranft\". ComingSoon.Net. Retrieved December 28, 2024.\\n\\n^ a b \"Cars 2: John Lasseter im Exklusiv-Interview\". July 27, 2011. Retrieved December 28, 2024 – via YouTube.\\n\\n^ Noyer, Jérémie (November 26, 2011). \"Cars 2\\'s Victor Navone takes the wheel!\". animatedviews.com. Retrieved December 28, 2024.\\n\\n^ Graham, Bill (November 15, 2010). \"First Image, Poster, and Official Synopsis for Pixar\\'s CARS 2; Plus Trailer Info\". Collider. Archived from the original on December 13, 2013. Retrieved May 18, 2011.\\n\\n^ Molina, Melissa (November 15, 2010). \"New Image, Poster And Synopsis Skid In For \\'Cars 2\\'\". Latino Review. Archived from the original on September 13, 2017. Retrieved May 18, 2011.\\n\\n^ Sztypuljak, David (November 15, 2010). \"Cars 2 First Look Image, Synopsis & UK Release Date\". HeyUGuys. Archived from the original on October 25, 2012. Retrieved May 18, 2011.\\n\\n^ \"Cars 2 Voice Cast Revealed\". Female First. November 18, 2010. Archived from the original on March 24, 2012. Retrieved May 19, 2011.\\n\\n^ \"More Cars 2 Video And Images\". Empire Online. January 13, 2011. Archived from the original on November 4, 2011. Retrieved May 19, 2011.\\n\\n^ Walt Disney Records (June 6, 2011). \"Cars 2 Original Motion Picture Soundtrack Set for Release June 14th Features Music by Weezer, Brad Paisley and Robbie Williams\". PR Newswire. Archived from the original on October 25, 2012. Retrieved May 12, 2012.\\n\\n^ Sciretta, Peter (September 24, 2008). \"Cars 2: New Release Date, Story Details, Short Car-Toons\". SlashFilm. Archived from the original on August 16, 2011. Retrieved August 22, 2011.\\n\\n^ \"Pixar Says Cars 2 is Still Due in Cinemas in June 2011\". BBC. February 10, 2010. Archived from the original on June 20, 2017. Retrieved August 22, 2011.\\n\\n^ \"Cars 2 Premiere\". Los Angeles Times. June 18, 2011. Archived from the original on October 15, 2012. Retrieved August 22, 2011.\\n\\n^ a b \"Cars 2\". Box Office Mojo. Archived from the original on July 2, 2011. Retrieved June 24, 2011.\\n\\n^ \"WIDEST OPENINGS BY MPAA RATING\". Box Office Mojo. Archived from the original on July 17, 2011. Retrieved June 24, 2011.\\n\\n^ \"Pixar\". Box Office Mojo. Archived from the original on June 27, 2012. Retrieved June 24, 2012.\\n\\n^ Sciretta, Peter (March 7, 2011). \"Cars 2 Trailer\". SlashFilm. Archived from the original on December 18, 2017. Retrieved May 18, 2011.\\n\\n^ Bastoli, Mike (May 12, 2011). \"Disney Responds to Cars 2 Lawsuit\". The Pixar Blog. Archived from the original on July 22, 2011. Retrieved May 19, 2011.\\n\\n^ Bastoli, Mike (July 28, 2011). \"Victory for Pixar in Cars lawsuit\". Big Screen Animation. Archived from the original on March 14, 2012. Retrieved June 11, 2012.\\n\\n^ a b Grabert, Jessica (August 19, 2011). \"Cars 2 Revs Its Engine In Preparation For November Blu-Ray Release\". Cinema Blend. Archived from the original on September 9, 2011. Retrieved August 22, 2011.\\n\\n^ \"North American Domestic DVD Sales Chart for Week Ending Nov 6, 2011\". The Numbers. Archived from the original on June 23, 2012. Retrieved July 4, 2012.\\n\\n^ C. S. Strowbridge (November 16, 2011). \"DVD Sales: Victory Lap for Cars 2\". Archived from the original on January 4, 2012. Retrieved November 17, 2011.\\n\\n^ C.S.Strowbridge (November 16, 2011). \"Blu-ray Sales: The Checkered Flag goes to Cars Too\". Archived from the original on November 23, 2011. Retrieved November 17, 2011.\\n\\n^ Arnold, Thomas K. (November 9, 2011). \"\\'Cars 2\\' Beats Out \\'Crazy Stupid Love\\' on Home Entertainment Charts\". The Hollywood Reporter. Archived from the original on November 12, 2011. Retrieved November 17, 2011.\\n\\n^ \"New Releases: Sept. 10, 2019\". Media Play News. Archived from the original on September 21, 2020. Retrieved October 25, 2021.\\n\\n^ Heller, Emily (March 3, 2020). \"A bunch of Pixar movies, including Up and A Bug\\'s Life, come to 4K Blu-ray\". Polygon. Archived from the original on March 4, 2020. Retrieved October 25, 2021.\\n\\n^ \"WORLDWIDE OPENINGS\". Box Office Mojo. Archived from the original on August 1, 2013. Retrieved June 29, 2011.\\n\\n^ \"2011 Worldwide Box Office\". Box Office Mojo. Archived from the original on July 16, 2020. Retrieved June 23, 2023.\\n\\n^ Gray, Brandon (June 25, 2011). \"Friday Report: \\'Cars 2\\' Warms Up\". Box Office Mojo. Archived from the original on June 28, 2011. Retrieved June 26, 2011.\\n\\n^ \"Opening Day Records at the Box Office\". Box Office Mojo. Archived from the original on July 20, 2011. Retrieved June 26, 2011.\\n\\n^ \"Pixar\". Box Office Mojo. Archived from the original on August 4, 2019. Retrieved June 26, 2011.\\n\\n^ \"TOP OPENING WEEKENDS BY MONTH\". Box Office Mojo. Archived from the original on August 30, 2019. Retrieved June 26, 2011.\\n\\n^ \"TOP OPENING WEEKENDS BY MPAA RATING\". Box Office Mojo. Archived from the original on June 23, 2011. Retrieved June 26, 2011.\\n\\n^ Gray, Brandon (July 4, 2011). \"Weekend Report: \\'Transformers\\' Claims Independence Gross Record\". Box Office Mojo. Archived from the original on October 6, 2014. Retrieved July 4, 2012.\\n\\n^ a b McClintock, Pamela (June 26, 2011). \"Box Office Report: \\'Cars 2\\' Races Past \\'Kung Fu Panda 2\\' Overseas\". The Hollywood Reporter. Archived from the original on December 19, 2011. Retrieved June 27, 2011.\\n\\n^ \"Russia – CIS Box Office June 23–26, 2011\". Box Office Mojo. Amazon.com. Archived from the original on November 18, 2011. Retrieved November 11, 2011.\\n\\n^ Subers, Ray (June 28, 2011). \"Around-the-World Roundup: \\'Cars 2\\'s Foreign Model Yields Strong Sales\". Box Office Mojo. Archived from the original on July 1, 2011. Retrieved June 27, 2011.\\n\\n^ \"Mexico Box Office June 24–26, 2011\". Box Office Mojo. Amazon.com. Archived from the original on September 2, 2011. Retrieved November 15, 2011.\\n\\n^ \"Brazil Box Office June 24–26, 2011\". Box Office Mojo. Amazon.com. Archived from the original on June 30, 2011. Retrieved June 29, 2011.\\n\\n^ \"Australia Box Office June 23–26, 2011\". Box Office Mojo. Amazon.com. Archived from the original on November 2, 2011. Retrieved November 15, 2011.\\n\\n^ \"Lithuania Yearly Box Office\". Box Office Mojo. Amazon.com. Archived from the original on November 13, 2012. Retrieved November 15, 2011.\\n\\n^ \"Argentina Box Office Index\". Box Office Mojo. Amazon.com. Archived from the original on September 11, 2011. Retrieved November 15, 2011.\\n\\n^ \"Estonia Yearly Box Office\". Box Office Mojo. Amazon.com. Archived from the original on October 23, 2012. Retrieved November 15, 2011.\\n\\n^ \"Finland Yearly Box Office\". Box Office Mojo. Amazon.com. Archived from the original on March 31, 2012. Retrieved November 15, 2011.\\n\\n^ \"Norway Yearly Box Office\". Box Office Mojo. Amazon.com. Archived from the original on August 4, 2011. Retrieved November 15, 2011.\\n\\n^ \"Cars 2\". Rotten Tomatoes. Fandango Media. Retrieved April 5, 2022. \\n\\n^ Corliss, Richard (June 26, 2011). \"Cars 2 at the Box Office: Pixcar or Ishcar?\". Time. Archived from the original on November 29, 2016. Retrieved November 28, 2016.\\n\\n^ McFarland, K.M. (June 23, 2015). \"Pixar\\'s Best Director Is Also Its Most Underrated\". Wired. Archived from the original on December 23, 2016. Retrieved November 28, 2016.\\n\\n^ \"Cars 2 Reviews\". Metacritic. CBS Interactive. Archived from the original on August 18, 2012. Retrieved July 2, 2011.\\n\\n^ D\\'Alessandro, Anthony (June 18, 2017). \"\\'Cars 3\\' $53M+ Is 3rd Best Debut For Pixar Series; \\'Wonder Woman\\' Still Wows With $40M+; \\'All Eyez On Me\\' Solid\". Deadline Hollywood. Archived from the original on April 22, 2022. Retrieved April 30, 2022.\\n\\n^ a b c d Barnes, Brooks (October 17, 2011). \"John Lasseter of Pixar Defends Cars 2\". The New York Times. Archived from the original on April 2, 2015. Retrieved December 2, 2011.\\n\\n^ Rorie, Matt (June 27, 2011). \"Was Cars 2 Too Violent For A G-Rating?\". Screened. Archived from the original on June 29, 2011. Retrieved September 18, 2014.\\n\\n^ \"\\'Cars 2\\': G-rating Grates Many Parents\". Retrieved September 18, 2014.[permanent dead link]\\n\\n^ Blankenship, Mark (August 25, 2011). \"Summer bummer: 5 most disappointing movies\". MSNBC. Archived from the original on October 5, 2012. Retrieved July 4, 2012.\\n\\n^ Dawson, Dudley (June 28, 2011). \"Cars 2 Movie Review\". Archived from the original on May 12, 2012. Retrieved January 25, 2013.\\n\\n^ a b Morgenstern, Joe (October 17, 2011). \"Oy Story: Cars 2 Is a Dollar-Driven Edsel\". The Wall Street Journal. Archived from the original on April 2, 2015. Retrieved August 18, 2012.\\n\\n^ Gleiberman, Owen (August 21, 2011). \"Owen\\'s summer movie roundup: Cutting through the spin, and what I loved (and hated)\". Entertainment Weekly. Archived from the original on July 9, 2012. Retrieved July 4, 2012.\\n\\n^ Maltin, Leonard (March 2013). \"movie review: CARS 2\". IndieWire. Archived from the original on January 8, 2014. Retrieved May 25, 2013.\\n\\n^ Travers, Peter (June 23, 2011). \"Cars 2 | Movie Reviews\". Rolling Stone. Archived from the original on December 31, 2013. Retrieved January 8, 2014.\\n\\n^ Ebert, Roger (June 22, 2011). \"John Lasseter plays with his cars\". Sun-Times Media Group. Archived from the original on October 9, 2022. Retrieved October 9, 2022.\\n\\n^ Chang, Justin (June 19, 2011). \"Cars 2 Review\". Variety. Archived from the original on June 23, 2011. Retrieved May 20, 2011.\\n\\n^ Stewart, James B. (July 1, 2011). \"A Collision of Creativity and Cash\". The New York Times. Archived from the original on July 3, 2011. Retrieved December 2, 2011.\\n\\n^ McNary, Dave (November 21, 2016). \"Watch the First Teaser Trailer for Disney-Pixar\\'s \\'Cars 3\\'\". Variety. Archived from the original on November 24, 2016. Retrieved November 26, 2016.\\n\\n^ \"Oscars 2012: Interesting facts about this year\\'s nominees...\" Entertainment Weekly. January 25, 2012. Archived from the original on July 2, 2012. Retrieved October 29, 2012.\\n\\n^ Knegy, Peter (December 26, 2011). \"The Artist Leads Women Film Journalists\\' EDA Award Noms\". IndieWire. Archived from the original on March 12, 2019. Retrieved August 24, 2023.\\n\\n^ Renninger, Bryce J. (January 11, 2012). \"Alliance of Women Film Journalists Names The Artist 2011\\'s Best Film\". IndieWire. Archived from the original on November 25, 2018. Retrieved August 24, 2023.\\n\\n^ Giardina, Carolyn (February 4, 2012). \"Rango Wins Annie Award for Best Animated Feature\". The Hollywood Reporter. Archived from the original on September 23, 2021. Retrieved August 23, 2023.\\n\\n^ \"Casting Society of America Announces Artios Awards Nominees\". The Hollywood Reporter. August 20, 2012. Archived from the original on June 1, 2021. Retrieved August 24, 2023.\\n\\n^ \"Casting Society Presents 2012 Artios Awards\". Deadline Hollywood. October 29, 2012. Archived from the original on February 16, 2015. Retrieved August 24, 2023.\\n\\n^ \"Children\\'s in 2011\". British Academy of Film and Television Arts. Archived from the original on April 18, 2013. Retrieved August 23, 2023.\\n\\n^ \"Golden Globes 2012: The Winners List\". The Hollywood Reporter. January 15, 2012. Archived from the original on May 19, 2021. Retrieved August 23, 2023.\\n\\n^ \"Sound Editors Give Super 8, War Horse, Rise Of Planet Of Apes Most Nominations\". Deadline Hollywood. January 20, 2012. Archived from the original on January 22, 2012. Retrieved August 23, 2023.\\n\\n^ Giardina, Carolyn (February 19, 2012). \"Sound Editors Recognize Hugo, The Muppets, Super 8, Tintin, War Horse\". The Hollywood Reporter. Archived from the original on December 26, 2021. Retrieved August 23, 2023.\\n\\n^ \"The 12th Annual Golden Trailer Award Nominees\". Golden Trailer Awards. Archived from the original on July 11, 2011. Retrieved August 24, 2023.\\n\\n^ Kilday, Gregg (September 7, 2011). \"Transformers 3, Cars 2 and The Social Network Among HPA Awards Nominees\". The Hollywood Reporter. Archived from the original on June 4, 2021. Retrieved May 8, 2023.\\n\\n^ Kilday, Gregg (November 10, 2011). \"The Help and Mad Men Win Hollywood Post Alliance Awards\". The Hollywood Reporter. Archived from the original on September 29, 2020. Retrieved May 8, 2023.\\n\\n^ Goodacre, Kate (April 1, 2012). \"Nickelodeon Kids\\' Choice Awards 2012: Winners in full\". Digital Spy. Archived from the original on January 28, 2020. Retrieved August 23, 2023.\\n\\n^ Goodacre, Kate; Fowler, Tara (January 12, 2012). \"People\\'s Choice Awards 2012: The winners in full\". Digital Spy. Archived from the original on March 3, 2020. Retrieved August 23, 2023.\\n\\n^ Kilday, Gregg (January 21, 2012). \"Producers Guild Awards Name The Artist Motion Picture of Year; Boardwalk Empire Scores TV Drama (Winners List)\". The Hollywood Reporter. Archived from the original on October 18, 2021. Retrieved August 24, 2023.\\n\\n^ Goldberg, Matt (February 29, 2012). \"Saturn Award Nominations Announced; Hugo and Harry Potter Lead with 10 Nominations Each\". Collider. Archived from the original on May 30, 2021. Retrieved August 23, 2023.\\n\\n^ Kit, Borys (July 26, 2012). \"Breaking Bad, Rise of the Planet of the Apes Take Home Saturn Awards\". The Hollywood Reporter. Archived from the original on May 30, 2021. Retrieved August 23, 2023.\\n\\n^ Kilday, Gregg (January 9, 2012). \"The Adventures of Tintin Earns Six Nominations From Visual Effects Society\". The Hollywood Reporter. Archived from the original on June 5, 2021. Retrieved August 23, 2023.\\n\\n^ \"Apes, Rango top VES\". Variety. February 7, 2012. Archived from the original on January 1, 2015. Retrieved August 23, 2023.\\n\\n^ Disney Interactive Studios (June 21, 2011). \"Spies Wanted - Disney•Pixar\\'s Cars 2: The Video Game Now Available\". Business Wire. Archived from the original on August 19, 2011. Retrieved July 4, 2012.\\n\\n^ \"Cars 2 Playstation 3 Game Will Be 3D\". BSCKiDS. April 6, 2011. Archived from the original on April 14, 2011. Retrieved April 14, 2011.\\n\\n^ Disney Interactive Studios (November 1, 2011). \"Disney•Pixar\\'s Cars 2: The Video Game is Now Available for Nintendo 3DS\". Business Wire. Archived from the original on December 7, 2011. Retrieved July 4, 2012.\\n\\n^ MacKenzie, Crystal (October 24, 2011). \"Coming Soon: Cars 2: The Video Game for PSP and the EA Sports FIFA Soccer 12 and Cars 2: The Video Game PSP Entertainment Pack\". Playstation. Archived from the original on April 14, 2012. Retrieved July 4, 2012.\\n\\n^ Neder, Mary Ann (June 28, 2011). \"Cars 2 App Hits #1 on App Store\". Appmodo. Archived from the original on March 11, 2012. Retrieved July 4, 2012.\\n\\n^ \"Retired Disney Interactive Games\". Disney Interactive. August 29, 2014. Archived from the original on November 1, 2014. Retrieved September 10, 2016.\\n\\n^ McClintock, Pamela (October 8, 2015). \"\\'Cars 3\\' and \\'Incredibles 2\\' Get Release Dates, \\'Toy Story 4\\' Bumped a Year\". The Hollywood Reporter. Archived from the original on October 11, 2015. Retrieved November 19, 2016.\\n\\n^ Alexander, Bryan (May 30, 2016). \"Sneak peek: \\'Cars 3\\' zooms ahead with new character Cruz Ramirez\". USA Today. Archived from the original on June 12, 2018. Retrieved July 23, 2016.\\n\\n^ \"Disney Officially Announces PLANES, a Direct-to-DVD Spin-Off of Pixar\\'s CARS\". Collider. February 17, 2011. Archived from the original on May 2, 2013. Retrieved December 30, 2016.\\n\\n^ Kit, Borys (December 21, 2012). \"Disney Sets Theatrical Release Date for \\'Planes\\'\". The Hollywood Reporter. Archived from the original on December 21, 2012. Retrieved December 22, 2012.\\n\\n^ Fleming, Mike (June 13, 2013). \"More Disney Release Dates: Two New Marvel Pics, \\'Alexander\\', \\'Hundred-Foot Journey\\', \\'Into The Woods\\', \\'Planes\\' Sequel Slotted\". Deadline. Archived from the original on June 15, 2013. Retrieved June 14, 2013.\\n\\n\\nExternal links\\n\\n\\n\\nWikimedia Commons has media related to Cars 2.\\n\\n\\n\\n\\nWikiquote has quotations related to Cars 2.\\n\\nOfficial website\\nCars 2 at IMDb\\xa0\\nCars 2 at the TCM Movie Database \\nCars 2 at the Internet Movie Cars Database\\nCars 2\\nvteCarsFilmsCars\\nCars (2006)\\nCars 2 (2011)\\nCars 3 (2017)\\nPlanes\\nPlanes (2013)\\nPlanes: Fire & Rescue (2014)\\nShort films\\nMater and the Ghostlight (2006)\\nTelevision series\\nCars Toons (2008–2014)\\nCars on the Road (2022)\\nCharacters\\nLightning McQueen\\nTow Mater\\nSally Carrera\\nMusic\\nCars\\n\"Real Gone\"\\n\"Life Is a Highway\"\\n\"Our Town\"\\nCars 2\\nCars 3\\n\"Ride\"\\nVideo games\\nCars\\nCars: Radiator Springs Adventures\\nCars Mater-National Championship\\nCars Race-O-Rama\\nThe World of Cars Online\\nCars 2\\nCars 3: Driven to Win\\nRelated\\nRush: A Disney–Pixar Adventure\\nDisney Infinity\\nLego The Incredibles\\n\\nAttractions\\nCars Land\\nLuigi\\'s Flying Tires\\nLuigi\\'s Rollickin\\' Roadsters\\nRadiator Springs Racers\\nCars Quatre Roues Rallye\\nLightning McQueen\\'s Racing Academy\\nRelated\\nLego Cars\\nThe Autobots\\nCadillac Ranch\\nMandeville-Anthony v. Walt Disney Co.\\n\\n Category\\n\\nvteDisney theatrical animated featuresWalt DisneyAnimation Studios\\nSnow White and the Seven Dwarfs (1937)\\nPinocchio (1940)\\nFantasia (1940)\\nDumbo (1941)\\nBambi (1942)\\nSaludos Amigos (1942)\\nThe Three Caballeros (1944)\\nMake Mine Music (1946)\\nFun and Fancy Free (1947)\\nMelody Time (1948)\\nThe Adventures of Ichabod and Mr. Toad (1949)\\nCinderella (1950)\\nAlice in Wonderland (1951)\\nPeter Pan (1953)\\nLady and the Tramp (1955)\\nSleeping Beauty (1959)\\nOne Hundred and One Dalmatians (1961)\\nThe Sword in the Stone (1963)\\nThe Jungle Book (1967)\\nThe Aristocats (1970)\\nRobin Hood (1973)\\nThe Many Adventures of Winnie the Pooh (1977)\\nThe Rescuers (1977)\\nThe Fox and the Hound (1981)\\nThe Black Cauldron (1985)\\nThe Great Mouse Detective (1986)\\nOliver & Company (1988)\\nThe Little Mermaid (1989)\\nThe Rescuers Down Under (1990)\\nBeauty and the Beast (1991)\\nAladdin (1992)\\nThe Lion King (1994)\\nPocahontas (1995)\\nThe Hunchback of Notre Dame (1996)\\nHercules (1997)\\nMulan (1998)\\nTarzan (1999)\\nFantasia 2000 (1999)\\nDinosaur (2000)\\nThe Emperor\\'s New Groove (2000)\\nAtlantis: The Lost Empire (2001)\\nLilo & Stitch (2002)\\nTreasure Planet (2002)\\nBrother Bear (2003)\\nHome on the Range (2004)\\nChicken Little (2005)\\nMeet the Robinsons (2007)\\nBolt (2008)\\nThe Princess and the Frog (2009)\\nTangled (2010)\\nWinnie the Pooh (2011)\\nWreck-It Ralph (2012)\\nFrozen (2013)\\nBig Hero 6 (2014)\\nZootopia (2016)\\nMoana (2016)\\nRalph Breaks the Internet (2018)\\nFrozen 2 (2019)\\nRaya and the Last Dragon (2021)\\nEncanto (2021)\\nStrange World (2022)\\nWish (2023)\\nMoana 2 (2024)\\nUpcoming\\nZootopia 2 (2025)\\n\\nPixar Animation Studios\\nToy Story (1995)\\nA Bug\\'s Life (1998)\\nToy Story 2 (1999)\\nMonsters, Inc. (2001)\\nFinding Nemo (2003)\\nThe Incredibles (2004)\\nCars (2006)\\nRatatouille (2007)\\nWALL-E (2008)\\nUp (2009)\\nToy Story 3 (2010)\\nCars 2 (2011)\\nBrave (2012)\\nMonsters University (2013)\\nInside Out (2015)\\nThe Good Dinosaur (2015)\\nFinding Dory (2016)\\nCars 3 (2017)\\nCoco (2017)\\nIncredibles 2 (2018)\\nToy Story 4 (2019)\\nOnward (2020)\\nSoul (2020) IR\\nLuca (2021) IR\\nTurning Red (2022) IR\\nLightyear (2022)\\nElemental (2023)\\nInside Out 2 (2024)\\nUpcoming\\nElio (2025)\\nHoppers (2026)\\nToy Story 5 (2026)\\n\\nDisneytoon Studios‡\\nDuckTales the Movie: Treasure of the Lost Lamp (1990)\\nA Goofy Movie (1995)\\nReturn to Never Land (2002)\\nThe Jungle Book 2 (2003)\\nPiglet\\'s Big Movie (2003)\\nPooh\\'s Heffalump Movie (2005)\\nBambi II (2006) IR\\nTinker Bell and the Great Fairy Rescue (2010) IR\\nSecret of the Wings (2012) LR\\nPlanes (2013)\\nThe Pirate Fairy (2014) LR\\nPlanes: Fire & Rescue (2014)\\nTinker Bell and the Legend of the NeverBeast (2015) LR\\nDisney Television Animation\\nDoug\\'s 1st Movie (1999)\\nThe Tigger Movie (2000)\\nRecess: School\\'s Out (2001)\\nTeacher\\'s Pet (2004)\\nPhineas and Ferb the Movie: Across the 2nd Dimension (2011) IR\\n20th Century Animation\\nSpies in Disguise (2019)\\nUpcoming\\nIce Age 6 (2026)\\n\\nOther Disney units\\nThe Nightmare Before Christmas (1993)\\nThe Wild (2006)\\nA Christmas Carol (2009)\\nGnomeo & Juliet (2011)\\nMars Needs Moms (2011)\\nFrankenweenie (2012)\\nStrange Magic (2015)\\nThe Lion King (2019)\\nRon\\'s Gone Wrong (2021)\\nThe Bob\\'s Burgers Movie (2022)\\nMufasa: The Lion King (2024)\\nLive-action films withnon-CGI animation\\nThe Reluctant Dragon (1941)\\nVictory Through Air Power (1943)\\nSong of the South (1946)\\nSo Dear to My Heart (1948)\\nMary Poppins (1964)\\nBedknobs and Broomsticks (1971)\\nPete\\'s Dragon (1977)\\nWho Framed Roger Rabbit (1988)\\nJames and the Giant Peach (1996)\\nThe Lizzie McGuire Movie (2003)\\nEnchanted (2007)\\nMary Poppins Returns (2018)\\nRelated lists\\nWalt Disney Animation Studios short films\\nAcademy Award Review\\nPixar short films\\nBased on fairy tales\\nUnproduced films\\nLive-action adaptations and remakes\\nBased on theme parks\\n\\n‡ Includes coproductions with Disney Television Animation\\nLR Limited release\\nIR International release\\n\\nvtePixar Animation StudiosA subsidiary of Walt Disney Studios, a division of The Walt Disney Company.Feature films\\nToy Story (1995)\\nA Bug\\'s Life (1998)\\nToy Story 2 (1999)\\nMonsters, Inc. (2001)\\nFinding Nemo (2003)\\nThe Incredibles (2004)\\nCars (2006)\\nRatatouille (2007)\\nWALL-E (2008)\\nUp (2009)\\nToy Story 3 (2010)\\nCars 2 (2011)\\nBrave (2012)\\nMonsters University (2013)\\nInside Out (2015)\\nThe Good Dinosaur (2015)\\nFinding Dory (2016)\\nCars 3 (2017)\\nCoco (2017)\\nIncredibles 2 (2018)\\nToy Story 4 (2019)\\nOnward (2020)\\nSoul (2020)\\nLuca (2021)\\nTurning Red (2022)\\nLightyear (2022)\\nElemental (2023)\\nInside Out 2 (2024)\\nUpcoming\\nElio (2025)\\nHoppers (2026)\\nToy Story 5 (2026)\\n\\nShort filmsOriginal\\nThe Adventures of André & Wally B. (1984)\\nLuxo Jr. (1986)\\nRed\\'s Dream (1987)\\nTin Toy (1988)\\nKnick Knack (1989)\\nGeri\\'s Game (1997)\\nFor the Birds (2000)\\nBoundin\\' (2003)\\nOne Man Band (2005)\\nLifted (2006)\\nPresto (2008)\\nPartly Cloudy (2009)\\nDay & Night (2010)\\nLa Luna (2011)\\nThe Blue Umbrella (2013)\\nLava (2014)\\nSanjay\\'s Super Team (2015)\\nPiper (2016)\\nLou (2017)\\nBao (2018)\\nSparkShorts\\nPurl (2019)\\nSmash and Grab (2019)\\nKitbull (2019)\\nFloat (2019)\\nWind (2019)\\nLoop (2020)\\nOut (2020)\\nBurrow (2020)\\nTwenty Something (2021)\\nNona (2021)\\nSelf (2024)\\nFeature-related\\nMike\\'s New Car (2002)\\nJack-Jack Attack (2005)\\nMr. Incredible and Pals (2005)\\nMater and the Ghostlight (2006)\\nYour Friend the Rat (2007)\\nBURN-E (2008)\\nDug\\'s Special Mission (2009)\\nGeorge and A.J. (2009)\\nThe Legend of Mor\\'du (2012)\\nParty Central (2013)\\nRiley\\'s First Date? (2015)\\n22 vs. Earth (2021)\\nCiao Alberto (2021)\\nSeries\\nCars Toons (2008–14)\\nToy Story Toons (2011–12)\\nForky Asks a Question (2019–20)\\nDug Days (2021–23)\\nCars on the Road (2022)\\nCompilations\\nTiny Toy Stories (1996)\\nPixar Short Films Collection\\nVolume 1 (2007)\\nVolume 2 (2012)\\nVolume 3 (2018)\\nOther works\\nBeach Chair (1986)\\nFlags and Waves (1986)\\nTelevision specials\\nToy Story of Terror! (2013)\\nToy Story That Time Forgot (2014)\\nLimited streaming series\\nDream Productions (2024)\\nWin or Lose (2025) \\n\\nFranchises\\nToy Story\\nMonsters, Inc.\\nFinding Nemo\\nThe Incredibles\\nCars\\nInside Out\\nAssociatedproductions\\nBuzz Lightyear of Star Command: The Adventure Begins (2000; direct-to-video film)\\nBuzz Lightyear of Star Command (2000–01; television series)\\nExploring the Reef (2003; short film)\\nPlanes (2013)\\nThe Dam Keeper (2014; short film)\\nPlanes: Fire & Rescue (2014)\\nBorrowed Time (2016; short film)\\nWeekends (2017; short film)\\nMonsters at Work (2021–2024; television series)\\nStarling (2023; short film)\\nCharacters\\nLuxo Jr.\\nToy Story\\nWoody\\nBuzz Lightyear\\nJessie\\nBo Peep\\nMonsters, Inc.\\nMike Wazowski\\nDory\\nThe Incredibles\\nBob Parr\\nHelen Parr\\nDash Parr\\nViolet Parr\\nEdna Mode\\nCars\\nLightning McQueen\\nTow Mater\\nSally Carrera\\nWALL-E\\nMerida\\nJoy\\nDocumentaries\\nThe Pixar Story (2007)\\nA Spark Story (2021)\\nDisney attractionsand experiences\\nIt\\'s Tough to Be a Bug! (1998)\\nBuzz Lightyear\\'s Space Ranger Spin (1998)\\nA Bug\\'s Land (2002)\\nTurtle Talk with Crush (2004)\\nThe Seas with Nemo & Friends (2007)\\nCars Quatre Roues Rallye (2007)\\nCrush\\'s Coaster (2007)\\nFinding Nemo Submarine Voyage (2007)\\nToy Story Mania! (2008)\\nMonsters, Inc. Ride & Go Seek (2009)\\nToy Story Land (2010)\\nRC Racer (2010)\\nSlinky Dog Zigzag Spin (2010)\\nToy Soldiers Parachute Drop (2010)\\nAlien Swirling Saucers (2018)\\nSlinky Dog Dash (2018)\\nCars Land (2012)\\nLuigi\\'s Flying Tires (2012)\\nRadiator Springs Racers (2012)\\nLuigi\\'s Rollickin\\' Roadsters (2016)\\nRemy\\'s Ratatouille Adventure (2014)\\nNemo & Friends SeaRider (2017)\\nPixar Pier (2018)\\nGames of Pixar Pier (2018)\\nIncredicoaster (2018)\\nPixar Pal-A-Round (2018)\\nJessie\\'s Critter Carousel (2019)\\nLightning McQueen\\'s Racing Academy (2019)\\nProducts\\nPixar Image Computer\\nSoftware\\nRenderMan\\nPresto Animation System\\nPeople\\nJohn Lasseter\\nEdwin Catmull\\nSteve Jobs\\nAlvy Ray Smith\\nJim Morris\\nPete Docter\\nSee also\\nAwards and nominations\\nfeature films\\nshort films\\nFilm references\\nComputer Graphics Lab\\nIndustrial Light & Magic\\nLucasfilm Animation\\nCircle Seven Animation\\nPixar Canada\\nPixar Photoscience Team\\nComputer Animation Production System\\nA Computer Animated Hand\\nThe Works\\nThe Shadow King\\nRush: A Disney–Pixar Adventure\\nDisney Infinity\\nFortnite\\nKingdom Hearts III\\nWalt Disney Animation Studios\\nDisneytoon Studios\\n20th Century Animation\\n\\n Category\\n Work group\\n\\nvteJohn LasseterWritten and directedFeature films\\nToy Story (1995)\\nA Bug\\'s Life (1998)\\nToy Story 2 (1999)\\nCars (2006)\\nCars 2 (2011)\\nShort films\\nLuxo Jr. (1986)\\nRed\\'s Dream (1987)\\nTin Toy (1988)\\nKnick Knack (1989)\\nMater and the Ghostlight (2006)\\nCars Toons (2008)\\nWritten only\\nToy Story 3 (2010)\\nSmall Fry (2011, short)\\nPartysaurus Rex (2012, short)\\nPlanes (2013)\\nThe Pirate Fairy (2014)\\nToy Story 4 (2019)\\nProduced only\\nThe Adventures of André & Wally B. (1984)\\nLuck (2022)\\nSpellbound (2024)\\nFranchises created\\nToy Story (1995–present)\\nCars (2006–present)\\nRelated\\nLasseter Family Winery\\nWalt Disney Animation Studios\\nPixar Animation Studios\\nDisneytoon Studios\\nSkydance Animation\\n\\nvteWorks by Dan FogelmanWritten and directed\\nDanny Collins (2015)\\nLife Itself (2018)\\nWritten only\\nCars (2006)\\nFred Claus (2007)\\nBolt (2008)\\nTangled (2010)\\nCars 2 (2011)\\nCrazy, Stupid, Love. (2011)\\nThe Guilt Trip (2012)\\nLast Vegas (2013)\\nTV series created\\nLike Family (2003–04)\\nThe Neighbors (2012–14)\\nGalavant (2015–16)\\nPitch (2016)\\nThis Is Us (2016–22)\\nParadise (2025)\\n\\n\\nPortals: Disney Film United States Animation Cartoon\\nAuthority control databases: National Czech RepublicLatvia\\n\\n\\n\\n\\nRetrieved from \"https://en.wikipedia.org/w/index.php?title=Cars_2&oldid=1286663660\"\\nCategories: 2011 films2010s English-language films2011 computer-animated films2011 3D films2011 American animated films2011 action comedy films2010s children\\'s comedy filmsAmerican 3D filmsAmerican action comedy filmsAmerican children\\'s animated comedy filmsAmerican sequel filmsCars (franchise)Environmental filmsAnimated films set in CaliforniaAnimated films set in ItalyAnimated films set in LondonAnimated films set in ParisAnimated films set in Tokyo2010s spy comedy filmsPixar animated filmsWalt Disney Records soundtracksFilms scored by Michael GiacchinoFilms directed by John LasseterFilms with screenplays by John Lasseter2010s children\\'s animated films3D animated filmsRating controversies in filmEnglish-language action comedy filmsHidden categories: Webarchive template wayback linksCS1 Portuguese-language sources (pt)All articles with dead external linksArticles with dead external links from November 2019Articles with permanently dead external linksArticles with short descriptionShort description is different from WikidataWikipedia indefinitely semi-protected pagesUse American English from September 2019All Wikipedia articles written in American EnglishUse mdy dates from September 2019Template film date with 2 release datesArticles with hAudio microformatsAlbum articles lacking alt text for coversCommons category link is on WikidataArticles prone to spam from January 2014Official website different in Wikidata and Wikipedia\\n\\n\\n\\n\\n\\n\\n This page was last edited on 21 April 2025, at 07:38\\xa0(UTC).\\nText is available under the Creative Commons Attribution-ShareAlike 4.0 License;\\nadditional terms may apply. By using this site, you agree to the Terms of Use and Privacy Policy. Wikipedia® is a registered trademark of the Wikimedia Foundation, Inc., a non-profit organization.\\n\\n\\nPrivacy policy\\nAbout Wikipedia\\nDisclaimers\\nContact Wikipedia\\nCode of Conduct\\nDevelopers\\nStatistics\\nCookie statement\\nMobile view\\n\\n\\n\\n\\n\\n\\n\\n\\n\\n\\n\\n\\n\\n\\nSearch\\n\\n\\n\\n\\n\\n\\n\\n\\n\\n\\n\\n\\n\\nSearch\\n\\n\\n\\n\\n\\n\\n\\n\\n\\nToggle the table of contents\\n\\n\\n\\n\\n\\n\\n\\nCars 2\\n\\n\\n\\n\\n\\n\\n\\n\\n\\n\\n\\n\\n\\n\\n\\n\\n\\n\\n\\n\\n\\n\\n\\n\\n\\n\\n\\n\\n55 languages\\n\\n\\nAdd topic\\n\\n\\n\\n\\n\\n\\n\\n\\n\\n\\n\\n\\n\\n\\n\\n\\n'"
      ]
     },
     "execution_count": 7,
     "metadata": {},
     "output_type": "execute_result"
    }
   ],
   "source": [
    "#save and print the text content of a page with all tags removed\n",
    "text = soup.get_text()\n",
    "text"
   ]
  },
  {
   "cell_type": "code",
   "execution_count": 5,
   "metadata": {},
   "outputs": [],
   "source": [
    "# def get_text(url):\n",
    "#     response = requests.get(url) #fetching the webpage\n",
    "#     soup = bs4.BeautifulSoup(response.text, \"html.parser\") #parsing the webpage\n",
    "#     return soup.get_text() #returning the text content of the page without HTML tags\n",
    "# #used copilot to curate function^\n",
    "\n",
    "# Cars2_text = get_text(\"https://en.wikipedia.org/wiki/Cars_2\")\n",
    "# Cars2_text"
   ]
  },
  {
   "cell_type": "code",
   "execution_count": null,
   "metadata": {},
   "outputs": [],
   "source": [
    "#download an image with beautifulsoup and save it in this repository"
   ]
  },
  {
   "cell_type": "code",
   "execution_count": 10,
   "metadata": {},
   "outputs": [
    {
     "data": {
      "text/plain": [
       "'/static/images/icons/wikipedia.png'"
      ]
     },
     "execution_count": 10,
     "metadata": {},
     "output_type": "execute_result"
    }
   ],
   "source": [
    "img_tags=soup.find_all('img')\n",
    "img_tags[0]['src']"
   ]
  },
  {
   "cell_type": "code",
   "execution_count": 12,
   "metadata": {},
   "outputs": [],
   "source": [
    "img_url=img_tags[0]['src']\n",
    "img=requests.get(url)"
   ]
  },
  {
   "cell_type": "code",
   "execution_count": 14,
   "metadata": {},
   "outputs": [],
   "source": [
    "#save image to file\n",
    "with open('image.png','wb') as f:\n",
    "    f.write(img.content)"
   ]
  },
  {
   "cell_type": "code",
   "execution_count": 18,
   "metadata": {},
   "outputs": [
    {
     "data": {
      "text/plain": [
       "'https://en.wikipedia.org/static/images/icons/wikipedia.png'"
      ]
     },
     "execution_count": 18,
     "metadata": {},
     "output_type": "execute_result"
    }
   ],
   "source": [
    "# same things as above\n",
    "img_tags=soup.find_all('img')\n",
    "link = \"https://en.wikipedia.org\" + img_tags[0]['src']\n",
    "link"
   ]
  },
  {
   "cell_type": "code",
   "execution_count": 52,
   "metadata": {},
   "outputs": [],
   "source": [
    "# Get all links on the page"
   ]
  },
  {
   "cell_type": "code",
   "execution_count": 41,
   "metadata": {},
   "outputs": [],
   "source": [
    "from urllib.parse import urljoin"
   ]
  },
  {
   "cell_type": "code",
   "execution_count": 55,
   "metadata": {},
   "outputs": [
    {
     "name": "stdout",
     "output_type": "stream",
     "text": [
      "https://en.wikipedia.org/wiki/Cars_2#bodyContent\n",
      "https://en.wikipedia.org/wiki/Main_Page\n",
      "https://en.wikipedia.org/wiki/Wikipedia:Contents\n",
      "https://en.wikipedia.org/wiki/Portal:Current_events\n",
      "https://en.wikipedia.org/wiki/Special:Random\n",
      "https://en.wikipedia.org/wiki/Wikipedia:About\n",
      "https://en.wikipedia.org/wiki/Wikipedia:Contact_us\n",
      "https://en.wikipedia.org/wiki/Help:Contents\n",
      "https://en.wikipedia.org/wiki/Help:Introduction\n",
      "https://en.wikipedia.org/wiki/Wikipedia:Community_portal\n"
     ]
    }
   ],
   "source": [
    "links = soup.find_all('a')  # a tags define what a link is\n",
    "\n",
    "# Print the first 10 links with the first 100 characters of each\n",
    "links_10 = links[:10]  # Get the first 10 links\n",
    "\n",
    "for link in links_10:\n",
    "    href = link.get('href')  # Get the href attribute\n",
    "    # if href and not href.startswith('#'):\n",
    "    full_url = urljoin(url, href) # Use urljoin to combine the base URL with relative links\n",
    "    print(full_url[:100])  # Print the first 100 characters"
   ]
  },
  {
   "cell_type": "markdown",
   "metadata": {},
   "source": [
    "## Part 3: Downloading scripts"
   ]
  },
  {
   "cell_type": "code",
   "execution_count": 4,
   "metadata": {},
   "outputs": [],
   "source": [
    "scripts=pd.read_csv('pudding_data.csv')"
   ]
  },
  {
   "cell_type": "code",
   "execution_count": 5,
   "metadata": {},
   "outputs": [
    {
     "data": {
      "text/html": [
       "<div>\n",
       "<style scoped>\n",
       "    .dataframe tbody tr th:only-of-type {\n",
       "        vertical-align: middle;\n",
       "    }\n",
       "\n",
       "    .dataframe tbody tr th {\n",
       "        vertical-align: top;\n",
       "    }\n",
       "\n",
       "    .dataframe thead th {\n",
       "        text-align: right;\n",
       "    }\n",
       "</style>\n",
       "<table border=\"1\" class=\"dataframe\">\n",
       "  <thead>\n",
       "    <tr style=\"text-align: right;\">\n",
       "      <th></th>\n",
       "      <th>imdb_id</th>\n",
       "      <th>script_id</th>\n",
       "      <th>title</th>\n",
       "      <th>year</th>\n",
       "      <th>gross (inflation-adjusted)</th>\n",
       "      <th>link</th>\n",
       "    </tr>\n",
       "  </thead>\n",
       "  <tbody>\n",
       "    <tr>\n",
       "      <th>0</th>\n",
       "      <td>tt0019777</td>\n",
       "      <td>4031</td>\n",
       "      <td>The Cocoanuts</td>\n",
       "      <td>1929</td>\n",
       "      <td>NaN</td>\n",
       "      <td>http://www.pages.drexel.edu/~ina22/splaylib/Sc...</td>\n",
       "    </tr>\n",
       "    <tr>\n",
       "      <th>1</th>\n",
       "      <td>tt0021884</td>\n",
       "      <td>8521</td>\n",
       "      <td>Frankenstein</td>\n",
       "      <td>1931</td>\n",
       "      <td>298.0</td>\n",
       "      <td>Frankenstein (Florey &amp; Fort) [1931-5-23] [Scan...</td>\n",
       "    </tr>\n",
       "    <tr>\n",
       "      <th>2</th>\n",
       "      <td>tt0022054</td>\n",
       "      <td>1086</td>\n",
       "      <td>The Last Flight</td>\n",
       "      <td>1931</td>\n",
       "      <td>NaN</td>\n",
       "      <td>film_20100519/all_imsdb_05_19_10/Last-Flight,-...</td>\n",
       "    </tr>\n",
       "    <tr>\n",
       "      <th>3</th>\n",
       "      <td>tt0022626</td>\n",
       "      <td>1631</td>\n",
       "      <td>American Madness</td>\n",
       "      <td>1932</td>\n",
       "      <td>NaN</td>\n",
       "      <td>http://www.imsdb.com/Movie Scripts/American Ma...</td>\n",
       "    </tr>\n",
       "    <tr>\n",
       "      <th>4</th>\n",
       "      <td>tt0022958</td>\n",
       "      <td>2438</td>\n",
       "      <td>Grand Hotel</td>\n",
       "      <td>1932</td>\n",
       "      <td>NaN</td>\n",
       "      <td>http://www.imsdb.com/Movie Scripts/Grand Hotel...</td>\n",
       "    </tr>\n",
       "    <tr>\n",
       "      <th>...</th>\n",
       "      <td>...</td>\n",
       "      <td>...</td>\n",
       "      <td>...</td>\n",
       "      <td>...</td>\n",
       "      <td>...</td>\n",
       "      <td>...</td>\n",
       "    </tr>\n",
       "    <tr>\n",
       "      <th>1995</th>\n",
       "      <td>tt3733778</td>\n",
       "      <td>8533</td>\n",
       "      <td>Pay the Ghost</td>\n",
       "      <td>2015</td>\n",
       "      <td>NaN</td>\n",
       "      <td>Pay The Ghost (Dan Kay, 9-1-09).pdf</td>\n",
       "    </tr>\n",
       "    <tr>\n",
       "      <th>1996</th>\n",
       "      <td>tt3808342</td>\n",
       "      <td>5499</td>\n",
       "      <td>Son of Saul</td>\n",
       "      <td>2015</td>\n",
       "      <td>0.0</td>\n",
       "      <td>http://gointothestory.blcklst.com/wp-content/u...</td>\n",
       "    </tr>\n",
       "    <tr>\n",
       "      <th>1997</th>\n",
       "      <td>tt3850214</td>\n",
       "      <td>8056</td>\n",
       "      <td>Dope</td>\n",
       "      <td>2015</td>\n",
       "      <td>18.0</td>\n",
       "      <td>Dope (2013.10.31) [Digital].pdf</td>\n",
       "    </tr>\n",
       "    <tr>\n",
       "      <th>1998</th>\n",
       "      <td>tt3859076</td>\n",
       "      <td>5507</td>\n",
       "      <td>Truth</td>\n",
       "      <td>2015</td>\n",
       "      <td>2.0</td>\n",
       "      <td>http://gointothestory.blcklst.com/wp-content/u...</td>\n",
       "    </tr>\n",
       "    <tr>\n",
       "      <th>1999</th>\n",
       "      <td>tt4270516</td>\n",
       "      <td>5410</td>\n",
       "      <td>Grandma</td>\n",
       "      <td>2015</td>\n",
       "      <td>7.0</td>\n",
       "      <td>http://gointothestory.blcklst.com/wp-content/u...</td>\n",
       "    </tr>\n",
       "  </tbody>\n",
       "</table>\n",
       "<p>2000 rows × 6 columns</p>\n",
       "</div>"
      ],
      "text/plain": [
       "        imdb_id  script_id             title  year  \\\n",
       "0     tt0019777       4031     The Cocoanuts  1929   \n",
       "1     tt0021884       8521      Frankenstein  1931   \n",
       "2     tt0022054       1086   The Last Flight  1931   \n",
       "3     tt0022626       1631  American Madness  1932   \n",
       "4     tt0022958       2438       Grand Hotel  1932   \n",
       "...         ...        ...               ...   ...   \n",
       "1995  tt3733778       8533     Pay the Ghost  2015   \n",
       "1996  tt3808342       5499       Son of Saul  2015   \n",
       "1997  tt3850214       8056              Dope  2015   \n",
       "1998  tt3859076       5507             Truth  2015   \n",
       "1999  tt4270516       5410           Grandma  2015   \n",
       "\n",
       "      gross (inflation-adjusted)  \\\n",
       "0                            NaN   \n",
       "1                          298.0   \n",
       "2                            NaN   \n",
       "3                            NaN   \n",
       "4                            NaN   \n",
       "...                          ...   \n",
       "1995                         NaN   \n",
       "1996                         0.0   \n",
       "1997                        18.0   \n",
       "1998                         2.0   \n",
       "1999                         7.0   \n",
       "\n",
       "                                                   link  \n",
       "0     http://www.pages.drexel.edu/~ina22/splaylib/Sc...  \n",
       "1     Frankenstein (Florey & Fort) [1931-5-23] [Scan...  \n",
       "2     film_20100519/all_imsdb_05_19_10/Last-Flight,-...  \n",
       "3     http://www.imsdb.com/Movie Scripts/American Ma...  \n",
       "4     http://www.imsdb.com/Movie Scripts/Grand Hotel...  \n",
       "...                                                 ...  \n",
       "1995                Pay The Ghost (Dan Kay, 9-1-09).pdf  \n",
       "1996  http://gointothestory.blcklst.com/wp-content/u...  \n",
       "1997                    Dope (2013.10.31) [Digital].pdf  \n",
       "1998  http://gointothestory.blcklst.com/wp-content/u...  \n",
       "1999  http://gointothestory.blcklst.com/wp-content/u...  \n",
       "\n",
       "[2000 rows x 6 columns]"
      ]
     },
     "execution_count": 5,
     "metadata": {},
     "output_type": "execute_result"
    }
   ],
   "source": [
    "scripts"
   ]
  },
  {
   "cell_type": "code",
   "execution_count": 7,
   "metadata": {},
   "outputs": [],
   "source": [
    "# errors will not appear aka silently skip\n",
    "def download_script(url):\n",
    "    try:\n",
    "        # Check if the URL is a valid string and starts with 'http' or 'https'\n",
    "        if not isinstance(url, str) or not url.startswith(('http://', 'https://')):\n",
    "            return None\n",
    "        \n",
    "        # Make an HTTP GET request\n",
    "        response = requests.get(url, timeout=5)  # Set a timeout to avoid hanging\n",
    "        response.raise_for_status()  # Check for HTTP errors\n",
    "\n",
    "        # Parse the HTML content\n",
    "        soup = BeautifulSoup(response.text, 'html.parser')\n",
    "\n",
    "        # Extract the text without HTML tags\n",
    "        text = soup.get_text(separator=' ', strip=True)\n",
    "\n",
    "        # Return the first 1000 characters\n",
    "        return text[:1000]\n",
    "    except:\n",
    "        # Silently skip any errors\n",
    "        return None"
   ]
  },
  {
   "cell_type": "code",
   "execution_count": 8,
   "metadata": {},
   "outputs": [],
   "source": [
    "# Step 3: Apply the function to each link and store the result in a new column\n",
    "scripts['script_snippet'] = scripts['link'].apply(download_script)"
   ]
  },
  {
   "cell_type": "code",
   "execution_count": 11,
   "metadata": {},
   "outputs": [],
   "source": [
    "#add a new column to the df with the text downloaded\n",
    "#save this new dataframe as \"pudding_texts.csv\"\n",
    "scripts.to_csv('pudding_texts.csv', index=False)"
   ]
  },
  {
   "cell_type": "markdown",
   "metadata": {},
   "source": [
    "## Part 4: TMDB database"
   ]
  },
  {
   "cell_type": "markdown",
   "metadata": {},
   "source": [
    "#### Browse the documentation at https://developer.themoviedb.org/reference/intro/getting-started. Create an account to authenticate"
   ]
  },
  {
   "cell_type": "code",
   "execution_count": 25,
   "metadata": {},
   "outputs": [],
   "source": [
    "#create a dataset of the movies in theaters now. Include metadata fields you are interested in. "
   ]
  },
  {
   "cell_type": "code",
   "execution_count": 45,
   "metadata": {},
   "outputs": [],
   "source": [
    "import time"
   ]
  },
  {
   "cell_type": "code",
   "execution_count": null,
   "metadata": {},
   "outputs": [],
   "source": [
    "api_key = \"\"\n",
    "\n",
    "url = f\"https://api.themoviedb.org/3/movie/now_playing?api_key={api_key}\"\n",
    "total_pages = dict[\"total_pages\"]\n",
    "list_of_dicts = []\n"
   ]
  },
  {
   "cell_type": "code",
   "execution_count": null,
   "metadata": {},
   "outputs": [
    {
     "ename": "FileNotFoundError",
     "evalue": "[Errno 2] No such file or directory: 'movies.csv'",
     "output_type": "error",
     "traceback": [
      "\u001b[1;31m---------------------------------------------------------------------------\u001b[0m",
      "\u001b[1;31mFileNotFoundError\u001b[0m                         Traceback (most recent call last)",
      "Cell \u001b[1;32mIn[100], line 4\u001b[0m\n\u001b[0;32m      1\u001b[0m \u001b[38;5;28;01mimport\u001b[39;00m \u001b[38;5;21;01mos\u001b[39;00m\n\u001b[0;32m      3\u001b[0m \u001b[38;5;66;03m# Example: Load your DataFrame from a CSV file\u001b[39;00m\n\u001b[1;32m----> 4\u001b[0m df \u001b[38;5;241m=\u001b[39m \u001b[43mpd\u001b[49m\u001b[38;5;241;43m.\u001b[39;49m\u001b[43mread_csv\u001b[49m\u001b[43m(\u001b[49m\u001b[38;5;124;43m\"\u001b[39;49m\u001b[38;5;124;43mmovies.csv\u001b[39;49m\u001b[38;5;124;43m\"\u001b[39;49m\u001b[43m)\u001b[49m  \u001b[38;5;66;03m# Replace with your actual file path\u001b[39;00m\n\u001b[0;32m      6\u001b[0m \u001b[38;5;66;03m# Specify the column names\u001b[39;00m\n\u001b[0;32m      7\u001b[0m poster_path_column \u001b[38;5;241m=\u001b[39m \u001b[38;5;124m\"\u001b[39m\u001b[38;5;124mposter_path\u001b[39m\u001b[38;5;124m\"\u001b[39m \n",
      "File \u001b[1;32mc:\\Users\\victo\\anaconda3\\envs\\is310\\lib\\site-packages\\pandas\\io\\parsers\\readers.py:1026\u001b[0m, in \u001b[0;36mread_csv\u001b[1;34m(filepath_or_buffer, sep, delimiter, header, names, index_col, usecols, dtype, engine, converters, true_values, false_values, skipinitialspace, skiprows, skipfooter, nrows, na_values, keep_default_na, na_filter, verbose, skip_blank_lines, parse_dates, infer_datetime_format, keep_date_col, date_parser, date_format, dayfirst, cache_dates, iterator, chunksize, compression, thousands, decimal, lineterminator, quotechar, quoting, doublequote, escapechar, comment, encoding, encoding_errors, dialect, on_bad_lines, delim_whitespace, low_memory, memory_map, float_precision, storage_options, dtype_backend)\u001b[0m\n\u001b[0;32m   1013\u001b[0m kwds_defaults \u001b[38;5;241m=\u001b[39m _refine_defaults_read(\n\u001b[0;32m   1014\u001b[0m     dialect,\n\u001b[0;32m   1015\u001b[0m     delimiter,\n\u001b[1;32m   (...)\u001b[0m\n\u001b[0;32m   1022\u001b[0m     dtype_backend\u001b[38;5;241m=\u001b[39mdtype_backend,\n\u001b[0;32m   1023\u001b[0m )\n\u001b[0;32m   1024\u001b[0m kwds\u001b[38;5;241m.\u001b[39mupdate(kwds_defaults)\n\u001b[1;32m-> 1026\u001b[0m \u001b[38;5;28;01mreturn\u001b[39;00m \u001b[43m_read\u001b[49m\u001b[43m(\u001b[49m\u001b[43mfilepath_or_buffer\u001b[49m\u001b[43m,\u001b[49m\u001b[43m \u001b[49m\u001b[43mkwds\u001b[49m\u001b[43m)\u001b[49m\n",
      "File \u001b[1;32mc:\\Users\\victo\\anaconda3\\envs\\is310\\lib\\site-packages\\pandas\\io\\parsers\\readers.py:620\u001b[0m, in \u001b[0;36m_read\u001b[1;34m(filepath_or_buffer, kwds)\u001b[0m\n\u001b[0;32m    617\u001b[0m _validate_names(kwds\u001b[38;5;241m.\u001b[39mget(\u001b[38;5;124m\"\u001b[39m\u001b[38;5;124mnames\u001b[39m\u001b[38;5;124m\"\u001b[39m, \u001b[38;5;28;01mNone\u001b[39;00m))\n\u001b[0;32m    619\u001b[0m \u001b[38;5;66;03m# Create the parser.\u001b[39;00m\n\u001b[1;32m--> 620\u001b[0m parser \u001b[38;5;241m=\u001b[39m TextFileReader(filepath_or_buffer, \u001b[38;5;241m*\u001b[39m\u001b[38;5;241m*\u001b[39mkwds)\n\u001b[0;32m    622\u001b[0m \u001b[38;5;28;01mif\u001b[39;00m chunksize \u001b[38;5;129;01mor\u001b[39;00m iterator:\n\u001b[0;32m    623\u001b[0m     \u001b[38;5;28;01mreturn\u001b[39;00m parser\n",
      "File \u001b[1;32mc:\\Users\\victo\\anaconda3\\envs\\is310\\lib\\site-packages\\pandas\\io\\parsers\\readers.py:1620\u001b[0m, in \u001b[0;36mTextFileReader.__init__\u001b[1;34m(self, f, engine, **kwds)\u001b[0m\n\u001b[0;32m   1617\u001b[0m     \u001b[38;5;28mself\u001b[39m\u001b[38;5;241m.\u001b[39moptions[\u001b[38;5;124m\"\u001b[39m\u001b[38;5;124mhas_index_names\u001b[39m\u001b[38;5;124m\"\u001b[39m] \u001b[38;5;241m=\u001b[39m kwds[\u001b[38;5;124m\"\u001b[39m\u001b[38;5;124mhas_index_names\u001b[39m\u001b[38;5;124m\"\u001b[39m]\n\u001b[0;32m   1619\u001b[0m \u001b[38;5;28mself\u001b[39m\u001b[38;5;241m.\u001b[39mhandles: IOHandles \u001b[38;5;241m|\u001b[39m \u001b[38;5;28;01mNone\u001b[39;00m \u001b[38;5;241m=\u001b[39m \u001b[38;5;28;01mNone\u001b[39;00m\n\u001b[1;32m-> 1620\u001b[0m \u001b[38;5;28mself\u001b[39m\u001b[38;5;241m.\u001b[39m_engine \u001b[38;5;241m=\u001b[39m \u001b[38;5;28;43mself\u001b[39;49m\u001b[38;5;241;43m.\u001b[39;49m\u001b[43m_make_engine\u001b[49m\u001b[43m(\u001b[49m\u001b[43mf\u001b[49m\u001b[43m,\u001b[49m\u001b[43m \u001b[49m\u001b[38;5;28;43mself\u001b[39;49m\u001b[38;5;241;43m.\u001b[39;49m\u001b[43mengine\u001b[49m\u001b[43m)\u001b[49m\n",
      "File \u001b[1;32mc:\\Users\\victo\\anaconda3\\envs\\is310\\lib\\site-packages\\pandas\\io\\parsers\\readers.py:1880\u001b[0m, in \u001b[0;36mTextFileReader._make_engine\u001b[1;34m(self, f, engine)\u001b[0m\n\u001b[0;32m   1878\u001b[0m     \u001b[38;5;28;01mif\u001b[39;00m \u001b[38;5;124m\"\u001b[39m\u001b[38;5;124mb\u001b[39m\u001b[38;5;124m\"\u001b[39m \u001b[38;5;129;01mnot\u001b[39;00m \u001b[38;5;129;01min\u001b[39;00m mode:\n\u001b[0;32m   1879\u001b[0m         mode \u001b[38;5;241m+\u001b[39m\u001b[38;5;241m=\u001b[39m \u001b[38;5;124m\"\u001b[39m\u001b[38;5;124mb\u001b[39m\u001b[38;5;124m\"\u001b[39m\n\u001b[1;32m-> 1880\u001b[0m \u001b[38;5;28mself\u001b[39m\u001b[38;5;241m.\u001b[39mhandles \u001b[38;5;241m=\u001b[39m \u001b[43mget_handle\u001b[49m\u001b[43m(\u001b[49m\n\u001b[0;32m   1881\u001b[0m \u001b[43m    \u001b[49m\u001b[43mf\u001b[49m\u001b[43m,\u001b[49m\n\u001b[0;32m   1882\u001b[0m \u001b[43m    \u001b[49m\u001b[43mmode\u001b[49m\u001b[43m,\u001b[49m\n\u001b[0;32m   1883\u001b[0m \u001b[43m    \u001b[49m\u001b[43mencoding\u001b[49m\u001b[38;5;241;43m=\u001b[39;49m\u001b[38;5;28;43mself\u001b[39;49m\u001b[38;5;241;43m.\u001b[39;49m\u001b[43moptions\u001b[49m\u001b[38;5;241;43m.\u001b[39;49m\u001b[43mget\u001b[49m\u001b[43m(\u001b[49m\u001b[38;5;124;43m\"\u001b[39;49m\u001b[38;5;124;43mencoding\u001b[39;49m\u001b[38;5;124;43m\"\u001b[39;49m\u001b[43m,\u001b[49m\u001b[43m \u001b[49m\u001b[38;5;28;43;01mNone\u001b[39;49;00m\u001b[43m)\u001b[49m\u001b[43m,\u001b[49m\n\u001b[0;32m   1884\u001b[0m \u001b[43m    \u001b[49m\u001b[43mcompression\u001b[49m\u001b[38;5;241;43m=\u001b[39;49m\u001b[38;5;28;43mself\u001b[39;49m\u001b[38;5;241;43m.\u001b[39;49m\u001b[43moptions\u001b[49m\u001b[38;5;241;43m.\u001b[39;49m\u001b[43mget\u001b[49m\u001b[43m(\u001b[49m\u001b[38;5;124;43m\"\u001b[39;49m\u001b[38;5;124;43mcompression\u001b[39;49m\u001b[38;5;124;43m\"\u001b[39;49m\u001b[43m,\u001b[49m\u001b[43m \u001b[49m\u001b[38;5;28;43;01mNone\u001b[39;49;00m\u001b[43m)\u001b[49m\u001b[43m,\u001b[49m\n\u001b[0;32m   1885\u001b[0m \u001b[43m    \u001b[49m\u001b[43mmemory_map\u001b[49m\u001b[38;5;241;43m=\u001b[39;49m\u001b[38;5;28;43mself\u001b[39;49m\u001b[38;5;241;43m.\u001b[39;49m\u001b[43moptions\u001b[49m\u001b[38;5;241;43m.\u001b[39;49m\u001b[43mget\u001b[49m\u001b[43m(\u001b[49m\u001b[38;5;124;43m\"\u001b[39;49m\u001b[38;5;124;43mmemory_map\u001b[39;49m\u001b[38;5;124;43m\"\u001b[39;49m\u001b[43m,\u001b[49m\u001b[43m \u001b[49m\u001b[38;5;28;43;01mFalse\u001b[39;49;00m\u001b[43m)\u001b[49m\u001b[43m,\u001b[49m\n\u001b[0;32m   1886\u001b[0m \u001b[43m    \u001b[49m\u001b[43mis_text\u001b[49m\u001b[38;5;241;43m=\u001b[39;49m\u001b[43mis_text\u001b[49m\u001b[43m,\u001b[49m\n\u001b[0;32m   1887\u001b[0m \u001b[43m    \u001b[49m\u001b[43merrors\u001b[49m\u001b[38;5;241;43m=\u001b[39;49m\u001b[38;5;28;43mself\u001b[39;49m\u001b[38;5;241;43m.\u001b[39;49m\u001b[43moptions\u001b[49m\u001b[38;5;241;43m.\u001b[39;49m\u001b[43mget\u001b[49m\u001b[43m(\u001b[49m\u001b[38;5;124;43m\"\u001b[39;49m\u001b[38;5;124;43mencoding_errors\u001b[39;49m\u001b[38;5;124;43m\"\u001b[39;49m\u001b[43m,\u001b[49m\u001b[43m \u001b[49m\u001b[38;5;124;43m\"\u001b[39;49m\u001b[38;5;124;43mstrict\u001b[39;49m\u001b[38;5;124;43m\"\u001b[39;49m\u001b[43m)\u001b[49m\u001b[43m,\u001b[49m\n\u001b[0;32m   1888\u001b[0m \u001b[43m    \u001b[49m\u001b[43mstorage_options\u001b[49m\u001b[38;5;241;43m=\u001b[39;49m\u001b[38;5;28;43mself\u001b[39;49m\u001b[38;5;241;43m.\u001b[39;49m\u001b[43moptions\u001b[49m\u001b[38;5;241;43m.\u001b[39;49m\u001b[43mget\u001b[49m\u001b[43m(\u001b[49m\u001b[38;5;124;43m\"\u001b[39;49m\u001b[38;5;124;43mstorage_options\u001b[39;49m\u001b[38;5;124;43m\"\u001b[39;49m\u001b[43m,\u001b[49m\u001b[43m \u001b[49m\u001b[38;5;28;43;01mNone\u001b[39;49;00m\u001b[43m)\u001b[49m\u001b[43m,\u001b[49m\n\u001b[0;32m   1889\u001b[0m \u001b[43m\u001b[49m\u001b[43m)\u001b[49m\n\u001b[0;32m   1890\u001b[0m \u001b[38;5;28;01massert\u001b[39;00m \u001b[38;5;28mself\u001b[39m\u001b[38;5;241m.\u001b[39mhandles \u001b[38;5;129;01mis\u001b[39;00m \u001b[38;5;129;01mnot\u001b[39;00m \u001b[38;5;28;01mNone\u001b[39;00m\n\u001b[0;32m   1891\u001b[0m f \u001b[38;5;241m=\u001b[39m \u001b[38;5;28mself\u001b[39m\u001b[38;5;241m.\u001b[39mhandles\u001b[38;5;241m.\u001b[39mhandle\n",
      "File \u001b[1;32mc:\\Users\\victo\\anaconda3\\envs\\is310\\lib\\site-packages\\pandas\\io\\common.py:873\u001b[0m, in \u001b[0;36mget_handle\u001b[1;34m(path_or_buf, mode, encoding, compression, memory_map, is_text, errors, storage_options)\u001b[0m\n\u001b[0;32m    868\u001b[0m \u001b[38;5;28;01melif\u001b[39;00m \u001b[38;5;28misinstance\u001b[39m(handle, \u001b[38;5;28mstr\u001b[39m):\n\u001b[0;32m    869\u001b[0m     \u001b[38;5;66;03m# Check whether the filename is to be opened in binary mode.\u001b[39;00m\n\u001b[0;32m    870\u001b[0m     \u001b[38;5;66;03m# Binary mode does not support 'encoding' and 'newline'.\u001b[39;00m\n\u001b[0;32m    871\u001b[0m     \u001b[38;5;28;01mif\u001b[39;00m ioargs\u001b[38;5;241m.\u001b[39mencoding \u001b[38;5;129;01mand\u001b[39;00m \u001b[38;5;124m\"\u001b[39m\u001b[38;5;124mb\u001b[39m\u001b[38;5;124m\"\u001b[39m \u001b[38;5;129;01mnot\u001b[39;00m \u001b[38;5;129;01min\u001b[39;00m ioargs\u001b[38;5;241m.\u001b[39mmode:\n\u001b[0;32m    872\u001b[0m         \u001b[38;5;66;03m# Encoding\u001b[39;00m\n\u001b[1;32m--> 873\u001b[0m         handle \u001b[38;5;241m=\u001b[39m \u001b[38;5;28;43mopen\u001b[39;49m\u001b[43m(\u001b[49m\n\u001b[0;32m    874\u001b[0m \u001b[43m            \u001b[49m\u001b[43mhandle\u001b[49m\u001b[43m,\u001b[49m\n\u001b[0;32m    875\u001b[0m \u001b[43m            \u001b[49m\u001b[43mioargs\u001b[49m\u001b[38;5;241;43m.\u001b[39;49m\u001b[43mmode\u001b[49m\u001b[43m,\u001b[49m\n\u001b[0;32m    876\u001b[0m \u001b[43m            \u001b[49m\u001b[43mencoding\u001b[49m\u001b[38;5;241;43m=\u001b[39;49m\u001b[43mioargs\u001b[49m\u001b[38;5;241;43m.\u001b[39;49m\u001b[43mencoding\u001b[49m\u001b[43m,\u001b[49m\n\u001b[0;32m    877\u001b[0m \u001b[43m            \u001b[49m\u001b[43merrors\u001b[49m\u001b[38;5;241;43m=\u001b[39;49m\u001b[43merrors\u001b[49m\u001b[43m,\u001b[49m\n\u001b[0;32m    878\u001b[0m \u001b[43m            \u001b[49m\u001b[43mnewline\u001b[49m\u001b[38;5;241;43m=\u001b[39;49m\u001b[38;5;124;43m\"\u001b[39;49m\u001b[38;5;124;43m\"\u001b[39;49m\u001b[43m,\u001b[49m\n\u001b[0;32m    879\u001b[0m \u001b[43m        \u001b[49m\u001b[43m)\u001b[49m\n\u001b[0;32m    880\u001b[0m     \u001b[38;5;28;01melse\u001b[39;00m:\n\u001b[0;32m    881\u001b[0m         \u001b[38;5;66;03m# Binary mode\u001b[39;00m\n\u001b[0;32m    882\u001b[0m         handle \u001b[38;5;241m=\u001b[39m \u001b[38;5;28mopen\u001b[39m(handle, ioargs\u001b[38;5;241m.\u001b[39mmode)\n",
      "\u001b[1;31mFileNotFoundError\u001b[0m: [Errno 2] No such file or directory: 'movies.csv'"
     ]
    }
   ],
   "source": [
    "import os\n",
    "\n",
    "# Example: Load your DataFrame from a CSV file\n",
    "# df = pd.read_csv(\"movies.csv\")  # Replace with your actual file path\n",
    "\n",
    "# Specify the column names\n",
    "poster_path_column = \"poster_path\" \n",
    "title_column = \"original_title\"\n",
    "\n",
    "# TMDB image base URL\n",
    "image_base_url = \"https://image.tmdb.org/t/p/w500\"\n",
    "# save_directory = \"downloads/\"\n",
    "\n",
    "# Create the download directory if it doesn't exist\n",
    "# os.makedirs(save_directory, exist_ok=True)\n",
    "\n",
    "# Download up to 10 posters\n",
    "count = 0\n",
    "for index, row in df.iterrows():\n",
    "    if count >= 10:\n",
    "        break\n",
    "\n",
    "    try:\n",
    "        # Get the title and poster path\n",
    "        title = str(row[title_column])\n",
    "        poster_path = row[poster_path_column]\n",
    "\n",
    "        # Skip if poster path is None or empty\n",
    "        if pd.isna(poster_path) or not poster_path:\n",
    "            print(f\"No poster available for {title}. Skipping...\")\n",
    "            continue\n",
    "\n",
    "        # Construct the full image URL\n",
    "        poster_url = f\"{image_base_url}{poster_path}\"\n",
    "        print(f\"Downloading poster for {title} from {poster_url}\")\n",
    "\n",
    "        # Make the image request\n",
    "        image_response = requests.get(poster_url)\n",
    "\n",
    "        # # Check for successful response and valid image type\n",
    "        # if image_response.status_code == 200 and \"image\" in image_response.headers.get(\"Content-Type\", \"\"):\n",
    "        #     # Create a safe file name\n",
    "        #     file_name = f\"{save_directory}{title.replace(' ', '_').replace('/', '_')}.jpg\"\n",
    "        #     with open(file_name, \"wb\") as file:\n",
    "        #         file.write(image_response.content)\n",
    "        #     print(f\"Saved poster as: {file_name}\")\n",
    "        #     count += 1\n",
    "        # else:\n",
    "        #     print(f\"Invalid or unsupported image for {title}. Skipping...\")\n",
    "\n",
    "    except Exception as e:\n",
    "        print(f\"Error downloading poster for {title}: {e}\")\n",
    "        print(\"Skipping to the next movie...\\n\")\n"
   ]
  },
  {
   "cell_type": "code",
   "execution_count": 57,
   "metadata": {},
   "outputs": [],
   "source": [
    "for page in range(1, total_pages+1):\n",
    "    response = requests.get(url)\n",
    "    dict = response.json()\n",
    "    list_of_dicts.extend(dict[\"results\"])\n",
    "    time.sleep(1)\n",
    "\n",
    "    #stop early for demo\n",
    "    if page ==10:\n",
    "        break"
   ]
  },
  {
   "cell_type": "code",
   "execution_count": 64,
   "metadata": {},
   "outputs": [
    {
     "data": {
      "text/html": [
       "<div>\n",
       "<style scoped>\n",
       "    .dataframe tbody tr th:only-of-type {\n",
       "        vertical-align: middle;\n",
       "    }\n",
       "\n",
       "    .dataframe tbody tr th {\n",
       "        vertical-align: top;\n",
       "    }\n",
       "\n",
       "    .dataframe thead th {\n",
       "        text-align: right;\n",
       "    }\n",
       "</style>\n",
       "<table border=\"1\" class=\"dataframe\">\n",
       "  <thead>\n",
       "    <tr style=\"text-align: right;\">\n",
       "      <th></th>\n",
       "      <th>adult</th>\n",
       "      <th>backdrop_path</th>\n",
       "      <th>genre_ids</th>\n",
       "      <th>id</th>\n",
       "      <th>original_language</th>\n",
       "      <th>original_title</th>\n",
       "      <th>overview</th>\n",
       "      <th>popularity</th>\n",
       "      <th>poster_path</th>\n",
       "      <th>release_date</th>\n",
       "      <th>title</th>\n",
       "      <th>video</th>\n",
       "      <th>vote_average</th>\n",
       "      <th>vote_count</th>\n",
       "    </tr>\n",
       "  </thead>\n",
       "  <tbody>\n",
       "    <tr>\n",
       "      <th>0</th>\n",
       "      <td>False</td>\n",
       "      <td>/cJvUJEEQ86LSjl4gFLkYpdCJC96.jpg</td>\n",
       "      <td>[10752, 28]</td>\n",
       "      <td>1241436</td>\n",
       "      <td>en</td>\n",
       "      <td>Warfare</td>\n",
       "      <td>A platoon of Navy SEALs embarks on a dangerous...</td>\n",
       "      <td>538.9681</td>\n",
       "      <td>/j8tqBXwH2PxBPzbtO19BTF9Ukbf.jpg</td>\n",
       "      <td>2025-04-09</td>\n",
       "      <td>Warfare</td>\n",
       "      <td>False</td>\n",
       "      <td>7.135</td>\n",
       "      <td>245</td>\n",
       "    </tr>\n",
       "    <tr>\n",
       "      <th>1</th>\n",
       "      <td>False</td>\n",
       "      <td>/4A5HH9HkCPqAwyYL6CnA0mxbYjn.jpg</td>\n",
       "      <td>[28, 80, 53]</td>\n",
       "      <td>1144430</td>\n",
       "      <td>fr</td>\n",
       "      <td>Balle perdue 3</td>\n",
       "      <td>Car genius Lino returns to conclude his vendet...</td>\n",
       "      <td>399.6668</td>\n",
       "      <td>/qycPITRqXgPai7zj1gKffjCdSB5.jpg</td>\n",
       "      <td>2025-05-06</td>\n",
       "      <td>Last Bullet</td>\n",
       "      <td>False</td>\n",
       "      <td>6.854</td>\n",
       "      <td>82</td>\n",
       "    </tr>\n",
       "    <tr>\n",
       "      <th>2</th>\n",
       "      <td>False</td>\n",
       "      <td>/rthMuZfFv4fqEU4JVbgSW9wQ8rs.jpg</td>\n",
       "      <td>[28, 878, 12]</td>\n",
       "      <td>986056</td>\n",
       "      <td>en</td>\n",
       "      <td>Thunderbolts*</td>\n",
       "      <td>After finding themselves ensnared in a death t...</td>\n",
       "      <td>344.7855</td>\n",
       "      <td>/m9EtP1Yrzv6v7dMaC9mRaGhd1um.jpg</td>\n",
       "      <td>2025-04-30</td>\n",
       "      <td>Thunderbolts*</td>\n",
       "      <td>False</td>\n",
       "      <td>7.500</td>\n",
       "      <td>781</td>\n",
       "    </tr>\n",
       "    <tr>\n",
       "      <th>3</th>\n",
       "      <td>False</td>\n",
       "      <td>/bVm6udIB6iKsRqgMdQh6HywuEBj.jpg</td>\n",
       "      <td>[53, 28]</td>\n",
       "      <td>1233069</td>\n",
       "      <td>de</td>\n",
       "      <td>Exterritorial</td>\n",
       "      <td>When her son vanishes inside a US consulate, e...</td>\n",
       "      <td>304.9528</td>\n",
       "      <td>/jM2uqCZNKbiyStyzXOERpMqAbdx.jpg</td>\n",
       "      <td>2025-04-29</td>\n",
       "      <td>Exterritorial</td>\n",
       "      <td>False</td>\n",
       "      <td>6.700</td>\n",
       "      <td>294</td>\n",
       "    </tr>\n",
       "    <tr>\n",
       "      <th>4</th>\n",
       "      <td>False</td>\n",
       "      <td>/fTrQsdMS2MUw00RnzH0r3JWHhts.jpg</td>\n",
       "      <td>[28, 80, 53]</td>\n",
       "      <td>1197306</td>\n",
       "      <td>en</td>\n",
       "      <td>A Working Man</td>\n",
       "      <td>Levon Cade left behind a decorated military ca...</td>\n",
       "      <td>293.6403</td>\n",
       "      <td>/6FRFIogh3zFnVWn7Z6zcYnIbRcX.jpg</td>\n",
       "      <td>2025-03-26</td>\n",
       "      <td>A Working Man</td>\n",
       "      <td>False</td>\n",
       "      <td>6.514</td>\n",
       "      <td>619</td>\n",
       "    </tr>\n",
       "    <tr>\n",
       "      <th>...</th>\n",
       "      <td>...</td>\n",
       "      <td>...</td>\n",
       "      <td>...</td>\n",
       "      <td>...</td>\n",
       "      <td>...</td>\n",
       "      <td>...</td>\n",
       "      <td>...</td>\n",
       "      <td>...</td>\n",
       "      <td>...</td>\n",
       "      <td>...</td>\n",
       "      <td>...</td>\n",
       "      <td>...</td>\n",
       "      <td>...</td>\n",
       "      <td>...</td>\n",
       "    </tr>\n",
       "    <tr>\n",
       "      <th>195</th>\n",
       "      <td>False</td>\n",
       "      <td>/tGjo4L15aELqZGqQH3ThZQGMKmL.jpg</td>\n",
       "      <td>[28, 12, 18]</td>\n",
       "      <td>1011477</td>\n",
       "      <td>en</td>\n",
       "      <td>Karate Kid: Legends</td>\n",
       "      <td>After a family tragedy, kung fu prodigy Li Fon...</td>\n",
       "      <td>111.6360</td>\n",
       "      <td>/ckI6bmQDvvGy20FPTIW1kfGKGRK.jpg</td>\n",
       "      <td>2025-05-08</td>\n",
       "      <td>Karate Kid: Legends</td>\n",
       "      <td>False</td>\n",
       "      <td>7.471</td>\n",
       "      <td>17</td>\n",
       "    </tr>\n",
       "    <tr>\n",
       "      <th>196</th>\n",
       "      <td>False</td>\n",
       "      <td>/gfe8onl8FhaJg4C47Kecj7CdNvf.jpg</td>\n",
       "      <td>[35]</td>\n",
       "      <td>1151039</td>\n",
       "      <td>en</td>\n",
       "      <td>Nonnas</td>\n",
       "      <td>After losing his beloved mother, a man risks e...</td>\n",
       "      <td>103.3850</td>\n",
       "      <td>/vE15XYl5QyCdMKjJIb33iE7SwYf.jpg</td>\n",
       "      <td>2025-05-01</td>\n",
       "      <td>Nonnas</td>\n",
       "      <td>False</td>\n",
       "      <td>6.700</td>\n",
       "      <td>78</td>\n",
       "    </tr>\n",
       "    <tr>\n",
       "      <th>197</th>\n",
       "      <td>False</td>\n",
       "      <td>/tyfO9jHgkhypUFizRVYD0bytPjP.jpg</td>\n",
       "      <td>[10751, 14]</td>\n",
       "      <td>447273</td>\n",
       "      <td>en</td>\n",
       "      <td>Snow White</td>\n",
       "      <td>Following the benevolent King's disappearance,...</td>\n",
       "      <td>95.6832</td>\n",
       "      <td>/oLxWocqheC8XbXbxqJ3x422j9PW.jpg</td>\n",
       "      <td>2025-03-12</td>\n",
       "      <td>Snow White</td>\n",
       "      <td>False</td>\n",
       "      <td>4.400</td>\n",
       "      <td>670</td>\n",
       "    </tr>\n",
       "    <tr>\n",
       "      <th>198</th>\n",
       "      <td>False</td>\n",
       "      <td>/1YMrOtrW7b4pL2lfD8UciZPOJGs.jpg</td>\n",
       "      <td>[18, 53, 9648]</td>\n",
       "      <td>974576</td>\n",
       "      <td>en</td>\n",
       "      <td>Conclave</td>\n",
       "      <td>After the unexpected death of the Pope, Cardin...</td>\n",
       "      <td>94.1488</td>\n",
       "      <td>/l4WXg5oQPK6GVlISKQNIUGb8rKJ.jpg</td>\n",
       "      <td>2024-10-25</td>\n",
       "      <td>Conclave</td>\n",
       "      <td>False</td>\n",
       "      <td>7.201</td>\n",
       "      <td>2435</td>\n",
       "    </tr>\n",
       "    <tr>\n",
       "      <th>199</th>\n",
       "      <td>False</td>\n",
       "      <td>/kpyXnnyO7UiK7FZFHJ5Ae7DRAIF.jpg</td>\n",
       "      <td>[10402, 99]</td>\n",
       "      <td>1469239</td>\n",
       "      <td>es</td>\n",
       "      <td>Karol G: Mañana fue muy bonito</td>\n",
       "      <td>Karol G pulls back the curtain on her rise to ...</td>\n",
       "      <td>81.3779</td>\n",
       "      <td>/5aXoQYwaQ7JJVUWclHAEXJgiS2M.jpg</td>\n",
       "      <td>2025-04-30</td>\n",
       "      <td>Karol G: Tomorrow Was Beautiful</td>\n",
       "      <td>False</td>\n",
       "      <td>8.110</td>\n",
       "      <td>68</td>\n",
       "    </tr>\n",
       "  </tbody>\n",
       "</table>\n",
       "<p>200 rows × 14 columns</p>\n",
       "</div>"
      ],
      "text/plain": [
       "     adult                     backdrop_path       genre_ids       id  \\\n",
       "0    False  /cJvUJEEQ86LSjl4gFLkYpdCJC96.jpg     [10752, 28]  1241436   \n",
       "1    False  /4A5HH9HkCPqAwyYL6CnA0mxbYjn.jpg    [28, 80, 53]  1144430   \n",
       "2    False  /rthMuZfFv4fqEU4JVbgSW9wQ8rs.jpg   [28, 878, 12]   986056   \n",
       "3    False  /bVm6udIB6iKsRqgMdQh6HywuEBj.jpg        [53, 28]  1233069   \n",
       "4    False  /fTrQsdMS2MUw00RnzH0r3JWHhts.jpg    [28, 80, 53]  1197306   \n",
       "..     ...                               ...             ...      ...   \n",
       "195  False  /tGjo4L15aELqZGqQH3ThZQGMKmL.jpg    [28, 12, 18]  1011477   \n",
       "196  False  /gfe8onl8FhaJg4C47Kecj7CdNvf.jpg            [35]  1151039   \n",
       "197  False  /tyfO9jHgkhypUFizRVYD0bytPjP.jpg     [10751, 14]   447273   \n",
       "198  False  /1YMrOtrW7b4pL2lfD8UciZPOJGs.jpg  [18, 53, 9648]   974576   \n",
       "199  False  /kpyXnnyO7UiK7FZFHJ5Ae7DRAIF.jpg     [10402, 99]  1469239   \n",
       "\n",
       "    original_language                  original_title  \\\n",
       "0                  en                         Warfare   \n",
       "1                  fr                  Balle perdue 3   \n",
       "2                  en                   Thunderbolts*   \n",
       "3                  de                   Exterritorial   \n",
       "4                  en                   A Working Man   \n",
       "..                ...                             ...   \n",
       "195                en             Karate Kid: Legends   \n",
       "196                en                          Nonnas   \n",
       "197                en                      Snow White   \n",
       "198                en                        Conclave   \n",
       "199                es  Karol G: Mañana fue muy bonito   \n",
       "\n",
       "                                              overview  popularity  \\\n",
       "0    A platoon of Navy SEALs embarks on a dangerous...    538.9681   \n",
       "1    Car genius Lino returns to conclude his vendet...    399.6668   \n",
       "2    After finding themselves ensnared in a death t...    344.7855   \n",
       "3    When her son vanishes inside a US consulate, e...    304.9528   \n",
       "4    Levon Cade left behind a decorated military ca...    293.6403   \n",
       "..                                                 ...         ...   \n",
       "195  After a family tragedy, kung fu prodigy Li Fon...    111.6360   \n",
       "196  After losing his beloved mother, a man risks e...    103.3850   \n",
       "197  Following the benevolent King's disappearance,...     95.6832   \n",
       "198  After the unexpected death of the Pope, Cardin...     94.1488   \n",
       "199  Karol G pulls back the curtain on her rise to ...     81.3779   \n",
       "\n",
       "                          poster_path release_date  \\\n",
       "0    /j8tqBXwH2PxBPzbtO19BTF9Ukbf.jpg   2025-04-09   \n",
       "1    /qycPITRqXgPai7zj1gKffjCdSB5.jpg   2025-05-06   \n",
       "2    /m9EtP1Yrzv6v7dMaC9mRaGhd1um.jpg   2025-04-30   \n",
       "3    /jM2uqCZNKbiyStyzXOERpMqAbdx.jpg   2025-04-29   \n",
       "4    /6FRFIogh3zFnVWn7Z6zcYnIbRcX.jpg   2025-03-26   \n",
       "..                                ...          ...   \n",
       "195  /ckI6bmQDvvGy20FPTIW1kfGKGRK.jpg   2025-05-08   \n",
       "196  /vE15XYl5QyCdMKjJIb33iE7SwYf.jpg   2025-05-01   \n",
       "197  /oLxWocqheC8XbXbxqJ3x422j9PW.jpg   2025-03-12   \n",
       "198  /l4WXg5oQPK6GVlISKQNIUGb8rKJ.jpg   2024-10-25   \n",
       "199  /5aXoQYwaQ7JJVUWclHAEXJgiS2M.jpg   2025-04-30   \n",
       "\n",
       "                               title  video  vote_average  vote_count  \n",
       "0                            Warfare  False         7.135         245  \n",
       "1                        Last Bullet  False         6.854          82  \n",
       "2                      Thunderbolts*  False         7.500         781  \n",
       "3                      Exterritorial  False         6.700         294  \n",
       "4                      A Working Man  False         6.514         619  \n",
       "..                               ...    ...           ...         ...  \n",
       "195              Karate Kid: Legends  False         7.471          17  \n",
       "196                           Nonnas  False         6.700          78  \n",
       "197                       Snow White  False         4.400         670  \n",
       "198                         Conclave  False         7.201        2435  \n",
       "199  Karol G: Tomorrow Was Beautiful  False         8.110          68  \n",
       "\n",
       "[200 rows x 14 columns]"
      ]
     },
     "execution_count": 64,
     "metadata": {},
     "output_type": "execute_result"
    }
   ],
   "source": [
    "df = pd.DataFrame(list_of_dicts)\n",
    "df"
   ]
  },
  {
   "cell_type": "code",
   "execution_count": 65,
   "metadata": {},
   "outputs": [
    {
     "data": {
      "text/html": [
       "<div>\n",
       "<style scoped>\n",
       "    .dataframe tbody tr th:only-of-type {\n",
       "        vertical-align: middle;\n",
       "    }\n",
       "\n",
       "    .dataframe tbody tr th {\n",
       "        vertical-align: top;\n",
       "    }\n",
       "\n",
       "    .dataframe thead th {\n",
       "        text-align: right;\n",
       "    }\n",
       "</style>\n",
       "<table border=\"1\" class=\"dataframe\">\n",
       "  <thead>\n",
       "    <tr style=\"text-align: right;\">\n",
       "      <th></th>\n",
       "      <th>original_title</th>\n",
       "      <th>original_language</th>\n",
       "      <th>release_date</th>\n",
       "      <th>vote_average</th>\n",
       "      <th>vote_count</th>\n",
       "      <th>overview</th>\n",
       "    </tr>\n",
       "  </thead>\n",
       "  <tbody>\n",
       "    <tr>\n",
       "      <th>0</th>\n",
       "      <td>Warfare</td>\n",
       "      <td>en</td>\n",
       "      <td>2025-04-09</td>\n",
       "      <td>7.135</td>\n",
       "      <td>245</td>\n",
       "      <td>A platoon of Navy SEALs embarks on a dangerous...</td>\n",
       "    </tr>\n",
       "    <tr>\n",
       "      <th>1</th>\n",
       "      <td>Balle perdue 3</td>\n",
       "      <td>fr</td>\n",
       "      <td>2025-05-06</td>\n",
       "      <td>6.854</td>\n",
       "      <td>82</td>\n",
       "      <td>Car genius Lino returns to conclude his vendet...</td>\n",
       "    </tr>\n",
       "    <tr>\n",
       "      <th>2</th>\n",
       "      <td>Thunderbolts*</td>\n",
       "      <td>en</td>\n",
       "      <td>2025-04-30</td>\n",
       "      <td>7.500</td>\n",
       "      <td>781</td>\n",
       "      <td>After finding themselves ensnared in a death t...</td>\n",
       "    </tr>\n",
       "    <tr>\n",
       "      <th>3</th>\n",
       "      <td>Exterritorial</td>\n",
       "      <td>de</td>\n",
       "      <td>2025-04-29</td>\n",
       "      <td>6.700</td>\n",
       "      <td>294</td>\n",
       "      <td>When her son vanishes inside a US consulate, e...</td>\n",
       "    </tr>\n",
       "    <tr>\n",
       "      <th>4</th>\n",
       "      <td>A Working Man</td>\n",
       "      <td>en</td>\n",
       "      <td>2025-03-26</td>\n",
       "      <td>6.514</td>\n",
       "      <td>619</td>\n",
       "      <td>Levon Cade left behind a decorated military ca...</td>\n",
       "    </tr>\n",
       "    <tr>\n",
       "      <th>...</th>\n",
       "      <td>...</td>\n",
       "      <td>...</td>\n",
       "      <td>...</td>\n",
       "      <td>...</td>\n",
       "      <td>...</td>\n",
       "      <td>...</td>\n",
       "    </tr>\n",
       "    <tr>\n",
       "      <th>195</th>\n",
       "      <td>Karate Kid: Legends</td>\n",
       "      <td>en</td>\n",
       "      <td>2025-05-08</td>\n",
       "      <td>7.471</td>\n",
       "      <td>17</td>\n",
       "      <td>After a family tragedy, kung fu prodigy Li Fon...</td>\n",
       "    </tr>\n",
       "    <tr>\n",
       "      <th>196</th>\n",
       "      <td>Nonnas</td>\n",
       "      <td>en</td>\n",
       "      <td>2025-05-01</td>\n",
       "      <td>6.700</td>\n",
       "      <td>78</td>\n",
       "      <td>After losing his beloved mother, a man risks e...</td>\n",
       "    </tr>\n",
       "    <tr>\n",
       "      <th>197</th>\n",
       "      <td>Snow White</td>\n",
       "      <td>en</td>\n",
       "      <td>2025-03-12</td>\n",
       "      <td>4.400</td>\n",
       "      <td>670</td>\n",
       "      <td>Following the benevolent King's disappearance,...</td>\n",
       "    </tr>\n",
       "    <tr>\n",
       "      <th>198</th>\n",
       "      <td>Conclave</td>\n",
       "      <td>en</td>\n",
       "      <td>2024-10-25</td>\n",
       "      <td>7.201</td>\n",
       "      <td>2435</td>\n",
       "      <td>After the unexpected death of the Pope, Cardin...</td>\n",
       "    </tr>\n",
       "    <tr>\n",
       "      <th>199</th>\n",
       "      <td>Karol G: Mañana fue muy bonito</td>\n",
       "      <td>es</td>\n",
       "      <td>2025-04-30</td>\n",
       "      <td>8.110</td>\n",
       "      <td>68</td>\n",
       "      <td>Karol G pulls back the curtain on her rise to ...</td>\n",
       "    </tr>\n",
       "  </tbody>\n",
       "</table>\n",
       "<p>200 rows × 6 columns</p>\n",
       "</div>"
      ],
      "text/plain": [
       "                     original_title original_language release_date  \\\n",
       "0                           Warfare                en   2025-04-09   \n",
       "1                    Balle perdue 3                fr   2025-05-06   \n",
       "2                     Thunderbolts*                en   2025-04-30   \n",
       "3                     Exterritorial                de   2025-04-29   \n",
       "4                     A Working Man                en   2025-03-26   \n",
       "..                              ...               ...          ...   \n",
       "195             Karate Kid: Legends                en   2025-05-08   \n",
       "196                          Nonnas                en   2025-05-01   \n",
       "197                      Snow White                en   2025-03-12   \n",
       "198                        Conclave                en   2024-10-25   \n",
       "199  Karol G: Mañana fue muy bonito                es   2025-04-30   \n",
       "\n",
       "     vote_average  vote_count  \\\n",
       "0           7.135         245   \n",
       "1           6.854          82   \n",
       "2           7.500         781   \n",
       "3           6.700         294   \n",
       "4           6.514         619   \n",
       "..            ...         ...   \n",
       "195         7.471          17   \n",
       "196         6.700          78   \n",
       "197         4.400         670   \n",
       "198         7.201        2435   \n",
       "199         8.110          68   \n",
       "\n",
       "                                              overview  \n",
       "0    A platoon of Navy SEALs embarks on a dangerous...  \n",
       "1    Car genius Lino returns to conclude his vendet...  \n",
       "2    After finding themselves ensnared in a death t...  \n",
       "3    When her son vanishes inside a US consulate, e...  \n",
       "4    Levon Cade left behind a decorated military ca...  \n",
       "..                                                 ...  \n",
       "195  After a family tragedy, kung fu prodigy Li Fon...  \n",
       "196  After losing his beloved mother, a man risks e...  \n",
       "197  Following the benevolent King's disappearance,...  \n",
       "198  After the unexpected death of the Pope, Cardin...  \n",
       "199  Karol G pulls back the curtain on her rise to ...  \n",
       "\n",
       "[200 rows x 6 columns]"
      ]
     },
     "execution_count": 65,
     "metadata": {},
     "output_type": "execute_result"
    }
   ],
   "source": [
    "df[[\"original_title\",\"original_language\", \"release_date\", \"vote_average\", \"vote_count\", \"overview\"]]"
   ]
  },
  {
   "cell_type": "code",
   "execution_count": null,
   "metadata": {},
   "outputs": [],
   "source": [
    "#download the movie posters for 10 of these movies and save them to this repository"
   ]
  },
  {
   "cell_type": "code",
   "execution_count": null,
   "metadata": {},
   "outputs": [
    {
     "name": "stdout",
     "output_type": "stream",
     "text": [
      "Downloading poster for Warfare from https://image.tmdb.org/t/p/w500/j8tqBXwH2PxBPzbtO19BTF9Ukbf.jpg\n",
      "Downloading poster for Balle perdue 3 from https://image.tmdb.org/t/p/w500/qycPITRqXgPai7zj1gKffjCdSB5.jpg\n",
      "Downloading poster for Thunderbolts* from https://image.tmdb.org/t/p/w500/m9EtP1Yrzv6v7dMaC9mRaGhd1um.jpg\n",
      "Downloading poster for Exterritorial from https://image.tmdb.org/t/p/w500/jM2uqCZNKbiyStyzXOERpMqAbdx.jpg\n",
      "Downloading poster for A Working Man from https://image.tmdb.org/t/p/w500/6FRFIogh3zFnVWn7Z6zcYnIbRcX.jpg\n",
      "Downloading poster for A Minecraft Movie from https://image.tmdb.org/t/p/w500/iPPTGh2OXuIv6d7cwuoPkw8govp.jpg\n",
      "Downloading poster for Rust from https://image.tmdb.org/t/p/w500/tbJ3RkA2s6X5qrBzrYHYTxvDBui.jpg\n",
      "Downloading poster for In the Lost Lands from https://image.tmdb.org/t/p/w500/dDlfjR7gllmr8HTeN6rfrYhTdwX.jpg\n",
      "Downloading poster for Havoc from https://image.tmdb.org/t/p/w500/r46leE6PSzLR3pnVzaxx5Q30yUF.jpg\n",
      "Downloading poster for Death of a Unicorn from https://image.tmdb.org/t/p/w500/lXR32JepFwD1UHkplWqtBP1K79z.jpg\n"
     ]
    }
   ],
   "source": [
    "import os\n",
    "# Specify the column names\n",
    "poster_path_column = \"poster_path\" \n",
    "title_column = \"original_title\"\n",
    "\n",
    "# TMDB image base URL\n",
    "image_base_url = \"https://image.tmdb.org/t/p/w500\"\n",
    "# save_directory = \"downloads/\"\n",
    "\n",
    "# Download up to 10 posters\n",
    "count = 0\n",
    "for count, (index, row) in enumerate(df.iterrows()):\n",
    "    if count >= 10:\n",
    "        break\n",
    "    try:\n",
    "        # Get the title and poster path\n",
    "        title = str(row[title_column])\n",
    "        poster_path = row[poster_path_column]\n",
    "\n",
    "        # Skip if poster path is None or empty\n",
    "        if pd.isna(poster_path) or not poster_path:\n",
    "            print(f\"No poster available for {title}. Skipping...\")\n",
    "\n",
    "        # Construct the full image URL\n",
    "        poster_url = f\"{image_base_url}{poster_path}\"\n",
    "        print(f\"Downloading poster for {title} from {poster_url}\")\n",
    "\n",
    "        # Make the image request\n",
    "        image_response = requests.get(poster_url)\n",
    "\n",
    "    except Exception as e:\n",
    "        print(f\"Error downloading poster for {title}: {e}\")\n",
    "        print(\"Skipping to the next movie...\\n\")\n"
   ]
  }
 ],
 "metadata": {
  "kernelspec": {
   "display_name": "is310",
   "language": "python",
   "name": "python3"
  },
  "language_info": {
   "codemirror_mode": {
    "name": "ipython",
    "version": 3
   },
   "file_extension": ".py",
   "mimetype": "text/x-python",
   "name": "python",
   "nbconvert_exporter": "python",
   "pygments_lexer": "ipython3",
   "version": "3.9.21"
  }
 },
 "nbformat": 4,
 "nbformat_minor": 2
}
